{
 "cells": [
  {
   "cell_type": "code",
   "execution_count": 1,
   "metadata": {},
   "outputs": [],
   "source": [
    "import pandas as pd"
   ]
  },
  {
   "cell_type": "code",
   "execution_count": 2,
   "metadata": {},
   "outputs": [],
   "source": [
    "new_atlanta_df = pd.read_csv('../Data/Clean/combined/Atlanta_combined.csv')\n",
    "new_charlotte_df = pd.read_csv('../Data/Clean/combined/Charlotte_combined.csv')\n",
    "new_cincinnati_df = pd.read_csv('../Data/Clean/combined/Cincinnati_combined.csv')\n",
    "new_denver_df = pd.read_csv('../Data/Clean/combined/Denver_combined.csv')\n",
    "new_indianapolis_df = pd.read_csv('../Data/Clean/combined/Indianapolis_combined.csv')\n",
    "new_providence_df = pd.read_csv('../Data/Clean/combined/Providence_combined.csv')\n",
    "new_tampa_df = pd.read_csv('../Data/Clean/combined/Tampa_combined.csv')"
   ]
  },
  {
   "cell_type": "code",
   "execution_count": 3,
   "metadata": {},
   "outputs": [],
   "source": [
    "# Concatenate the data from all cities\n",
    "combined_cities = pd.concat([new_atlanta_df, new_charlotte_df, new_cincinnati_df, new_denver_df, new_indianapolis_df, new_providence_df, new_tampa_df])\n"
   ]
  },
  {
   "cell_type": "code",
   "execution_count": 4,
   "metadata": {},
   "outputs": [
    {
     "data": {
      "text/plain": [
       "<bound method NDFrame.head of            DATE  MeanSalePrice  SalesCount  TotalTransactionValue  \\\n",
       "0    2008-04-30       200954.0      6463.0           1.235943e+09   \n",
       "1    2008-05-31       203419.0      6729.0           1.317605e+09   \n",
       "2    2008-06-30       205746.0      7047.0           1.388670e+09   \n",
       "3    2008-07-31       205553.0      7086.0           1.429205e+09   \n",
       "4    2008-08-31       202855.0      6383.0           1.388101e+09   \n",
       "..          ...            ...         ...                    ...   \n",
       "190  2024-02-29       448882.0      3642.0           1.524068e+09   \n",
       "191  2024-03-31       452862.0      4565.0           1.707700e+09   \n",
       "192  2024-04-30       465390.0      4858.0           2.031410e+09   \n",
       "193  2024-05-31       471017.0      5077.0           2.276940e+09   \n",
       "194  2024-06-30       473695.0      4596.0           2.294074e+09   \n",
       "\n",
       "     HomeValueIndex  HomeValueIndexSmSa  MarketTempIdx  DaysToClose  \\\n",
       "0     185168.707578       189442.061550            NaN          NaN   \n",
       "1     185331.245765       188426.220342            NaN          NaN   \n",
       "2     185185.095114       187437.288971            NaN          NaN   \n",
       "3     184692.089305       186253.861325            NaN          NaN   \n",
       "4     183376.364934       184882.815462            NaN          NaN   \n",
       "..              ...                 ...            ...          ...   \n",
       "190   375687.121351       382477.785335           46.0         33.0   \n",
       "191   378189.051222       383558.165868           45.0         33.0   \n",
       "192   380121.269437       384319.745361           44.0         35.0   \n",
       "193   381167.217822       384329.301661           43.0         35.0   \n",
       "194   380895.158925       383376.918835           42.0         35.0   \n",
       "\n",
       "     DaysOnZillow  ListingPriceCutAmt  ...  PctSoldBelowList  MORTGAGE15US  \\\n",
       "0             NaN                 NaN  ...               NaN         5.465   \n",
       "1             NaN                 NaN  ...               NaN         5.600   \n",
       "2             NaN                 NaN  ...               NaN         5.910   \n",
       "3             NaN                 NaN  ...               NaN         5.972   \n",
       "4             NaN                 NaN  ...               NaN         6.025   \n",
       "..            ...                 ...  ...               ...           ...   \n",
       "190          53.0        15552.920371  ...          0.682476         6.102   \n",
       "191          53.0        16178.761677  ...          0.680404         6.175   \n",
       "192          50.0        16495.792450  ...          0.668575         6.263   \n",
       "193          49.0        16197.063450  ...          0.655580         6.346   \n",
       "194          49.0        16109.551386  ...          0.645857         6.188   \n",
       "\n",
       "     MORTGAGE30US  RATE_DIFFERENCE  NUM_JOBS  GROWTH_PCT  \\\n",
       "0           5.918            0.452    2454.9        -3.5   \n",
       "1           6.036            0.436    2450.9        -6.2   \n",
       "2           6.320            0.410    2442.4        -6.1   \n",
       "3           6.426            0.454    2434.6        -6.8   \n",
       "4           6.478            0.452    2429.3        -7.2   \n",
       "..            ...              ...       ...         ...   \n",
       "190         6.776            0.674       NaN         NaN   \n",
       "191         6.820            0.645    1548.3         0.1   \n",
       "192         6.992            0.730    1555.4         2.5   \n",
       "193         7.060            0.714    1555.2         2.2   \n",
       "194         6.918            0.730    1558.3         3.3   \n",
       "\n",
       "     People25PlusThousands_2019  PctHighSchoolDiploma_2019  \\\n",
       "0                    4414.04779                  89.810682   \n",
       "1                    4414.04779                  89.810682   \n",
       "2                    4414.04779                  89.810682   \n",
       "3                    4414.04779                  89.810682   \n",
       "4                    4414.04779                  89.810682   \n",
       "..                          ...                        ...   \n",
       "190                  2293.35917                  93.139933   \n",
       "191                  2293.35917                  93.139933   \n",
       "192                  2293.35917                  93.139933   \n",
       "193                  2293.35917                  93.139933   \n",
       "194                  2293.35917                  93.139933   \n",
       "\n",
       "     PctBachelorsDegree_2019     CityName  \n",
       "0                  41.859123  ATLANTA, GA  \n",
       "1                  41.859123  ATLANTA, GA  \n",
       "2                  41.859123  ATLANTA, GA  \n",
       "3                  41.859123  ATLANTA, GA  \n",
       "4                  41.859123  ATLANTA, GA  \n",
       "..                       ...          ...  \n",
       "190                33.616856    TAMPA, FL  \n",
       "191                33.616856    TAMPA, FL  \n",
       "192                33.616856    TAMPA, FL  \n",
       "193                33.616856    TAMPA, FL  \n",
       "194                33.616856    TAMPA, FL  \n",
       "\n",
       "[1365 rows x 26 columns]>"
      ]
     },
     "execution_count": 4,
     "metadata": {},
     "output_type": "execute_result"
    }
   ],
   "source": [
    "combined_cities.head"
   ]
  },
  {
   "cell_type": "code",
   "execution_count": 5,
   "metadata": {},
   "outputs": [],
   "source": [
    "# Set the 'Date' column as index\n",
    "combined_cities.set_index('DATE', inplace=True)"
   ]
  },
  {
   "cell_type": "code",
   "execution_count": 6,
   "metadata": {},
   "outputs": [
    {
     "name": "stdout",
     "output_type": "stream",
     "text": [
      "Index(['MeanSalePrice', 'SalesCount', 'TotalTransactionValue',\n",
      "       'HomeValueIndex', 'HomeValueIndexSmSa', 'MarketTempIdx', 'DaysToClose',\n",
      "       'DaysOnZillow', 'ListingPriceCutAmt', 'ListingPriceCutPct',\n",
      "       'SaleToList', 'NewConstructMeanSalePrice', 'NewConstructSalesCount',\n",
      "       'PctListingsPriceCut', 'PctSoldAboveList', 'PctSoldBelowList',\n",
      "       'MORTGAGE15US', 'MORTGAGE30US', 'RATE_DIFFERENCE', 'NUM_JOBS',\n",
      "       'GROWTH_PCT', 'People25PlusThousands_2019', 'PctHighSchoolDiploma_2019',\n",
      "       'PctBachelorsDegree_2019', 'CityName'],\n",
      "      dtype='object')\n"
     ]
    }
   ],
   "source": [
    "print(combined_cities.columns)"
   ]
  },
  {
   "cell_type": "code",
   "execution_count": 8,
   "metadata": {},
   "outputs": [
    {
     "name": "stdout",
     "output_type": "stream",
     "text": [
      "<class 'pandas.core.frame.DataFrame'>\n",
      "Index: 1365 entries, 2008-04-30 to 2024-06-30\n",
      "Data columns (total 25 columns):\n",
      " #   Column                      Non-Null Count  Dtype  \n",
      "---  ------                      --------------  -----  \n",
      " 0   MeanSalePrice               1365 non-null   float64\n",
      " 1   SalesCount                  1364 non-null   float64\n",
      " 2   TotalTransactionValue       1365 non-null   float64\n",
      " 3   HomeValueIndex              1365 non-null   float64\n",
      " 4   HomeValueIndexSmSa          1365 non-null   float64\n",
      " 5   MarketTempIdx               546 non-null    float64\n",
      " 6   DaysToClose                 546 non-null    float64\n",
      " 7   DaysOnZillow                532 non-null    float64\n",
      " 8   ListingPriceCutAmt          531 non-null    float64\n",
      " 9   ListingPriceCutPct          529 non-null    float64\n",
      " 10  SaleToList                  529 non-null    float64\n",
      " 11  NewConstructMeanSalePrice   546 non-null    float64\n",
      " 12  NewConstructSalesCount      546 non-null    float64\n",
      " 13  PctListingsPriceCut         532 non-null    float64\n",
      " 14  PctSoldAboveList            531 non-null    float64\n",
      " 15  PctSoldBelowList            532 non-null    float64\n",
      " 16  MORTGAGE15US                1365 non-null   float64\n",
      " 17  MORTGAGE30US                1365 non-null   float64\n",
      " 18  RATE_DIFFERENCE             1365 non-null   float64\n",
      " 19  NUM_JOBS                    1337 non-null   float64\n",
      " 20  GROWTH_PCT                  1337 non-null   float64\n",
      " 21  People25PlusThousands_2019  1365 non-null   float64\n",
      " 22  PctHighSchoolDiploma_2019   1365 non-null   float64\n",
      " 23  PctBachelorsDegree_2019     1365 non-null   float64\n",
      " 24  CityName                    1365 non-null   object \n",
      "dtypes: float64(24), object(1)\n",
      "memory usage: 277.3+ KB\n"
     ]
    }
   ],
   "source": [
    "combined_cities.info()"
   ]
  },
  {
   "cell_type": "code",
   "execution_count": 10,
   "metadata": {},
   "outputs": [
    {
     "data": {
      "text/plain": [
       "MeanSalePrice                   0\n",
       "SalesCount                      1\n",
       "TotalTransactionValue           0\n",
       "HomeValueIndex                  0\n",
       "HomeValueIndexSmSa              0\n",
       "MarketTempIdx                 819\n",
       "DaysToClose                   819\n",
       "DaysOnZillow                  833\n",
       "ListingPriceCutAmt            834\n",
       "ListingPriceCutPct            836\n",
       "SaleToList                    836\n",
       "NewConstructMeanSalePrice     819\n",
       "NewConstructSalesCount        819\n",
       "PctListingsPriceCut           833\n",
       "PctSoldAboveList              834\n",
       "PctSoldBelowList              833\n",
       "MORTGAGE15US                    0\n",
       "MORTGAGE30US                    0\n",
       "RATE_DIFFERENCE                 0\n",
       "NUM_JOBS                       28\n",
       "GROWTH_PCT                     28\n",
       "People25PlusThousands_2019      0\n",
       "PctHighSchoolDiploma_2019       0\n",
       "PctBachelorsDegree_2019         0\n",
       "CityName                        0\n",
       "dtype: int64"
      ]
     },
     "execution_count": 10,
     "metadata": {},
     "output_type": "execute_result"
    }
   ],
   "source": [
    "combined_cities.isnull().sum()"
   ]
  },
  {
   "cell_type": "code",
   "execution_count": 12,
   "metadata": {},
   "outputs": [],
   "source": [
    "combined_cities.to_csv('combined_cities.csv', index=True)"
   ]
  },
  {
   "cell_type": "code",
   "execution_count": null,
   "metadata": {},
   "outputs": [],
   "source": []
  }
 ],
 "metadata": {
  "kernelspec": {
   "display_name": "base",
   "language": "python",
   "name": "python3"
  },
  "language_info": {
   "codemirror_mode": {
    "name": "ipython",
    "version": 3
   },
   "file_extension": ".py",
   "mimetype": "text/x-python",
   "name": "python",
   "nbconvert_exporter": "python",
   "pygments_lexer": "ipython3",
   "version": "3.11.7"
  }
 },
 "nbformat": 4,
 "nbformat_minor": 2
}
