{
 "cells": [
  {
   "cell_type": "code",
   "execution_count": 1,
   "metadata": {},
   "outputs": [],
   "source": [
    "import pandas as pd\n"
   ]
  },
  {
   "cell_type": "code",
   "execution_count": 5,
   "metadata": {},
   "outputs": [],
   "source": [
    "# Load the two CSV files\n",
    "mortgage_15yr = pd.read_csv('../Data/FRED/FRED_MORTGAGE15US.csv')\n",
    "mortgage_30yr = pd.read_csv('../Data/FRED/FRED_MORTGAGE30US.csv')"
   ]
  },
  {
   "cell_type": "code",
   "execution_count": 6,
   "metadata": {},
   "outputs": [],
   "source": [
    "# Merge the two datasets on the 'DATE' column\n",
    "merged_mortgage_data = pd.merge(mortgage_15yr, mortgage_30yr, on='DATE', how='inner')"
   ]
  },
  {
   "cell_type": "code",
   "execution_count": 7,
   "metadata": {},
   "outputs": [],
   "source": [
    "# Convert 'DATE' column to datetime format\n",
    "merged_mortgage_data['DATE'] = pd.to_datetime(merged_mortgage_data['DATE'])"
   ]
  },
  {
   "cell_type": "code",
   "execution_count": 8,
   "metadata": {},
   "outputs": [],
   "source": [
    "# Create a new feature: difference between 30-year and 15-year mortgage rates\n",
    "merged_mortgage_data['RATE_DIFFERENCE'] = merged_mortgage_data['MORTGAGE30US'] - merged_mortgage_data['MORTGAGE15US']"
   ]
  },
  {
   "cell_type": "code",
   "execution_count": 9,
   "metadata": {},
   "outputs": [
    {
     "name": "stdout",
     "output_type": "stream",
     "text": [
      "        DATE  MORTGAGE15US  MORTGAGE30US  RATE_DIFFERENCE\n",
      "0 1991-08-30          8.77          9.15             0.38\n",
      "1 1991-09-06          8.79          9.14             0.35\n",
      "2 1991-09-13          8.68          9.02             0.34\n",
      "3 1991-09-20          8.62          8.95             0.33\n",
      "4 1991-09-27          8.59          8.92             0.33\n"
     ]
    }
   ],
   "source": [
    "# Display the first few rows of the cleaned dataset\n",
    "print(merged_mortgage_data.head())"
   ]
  },
  {
   "cell_type": "code",
   "execution_count": null,
   "metadata": {},
   "outputs": [],
   "source": [
    "# Export the cleaned dataset to a CSV file\n",
    "#merged_mortgage_data.to_csv('../Data/FRED/cleaned_mortgage_data.csv', index=False)"
   ]
  }
 ],
 "metadata": {
  "kernelspec": {
   "display_name": "base",
   "language": "python",
   "name": "python3"
  },
  "language_info": {
   "codemirror_mode": {
    "name": "ipython",
    "version": 3
   },
   "file_extension": ".py",
   "mimetype": "text/x-python",
   "name": "python",
   "nbconvert_exporter": "python",
   "pygments_lexer": "ipython3",
   "version": "3.11.7"
  }
 },
 "nbformat": 4,
 "nbformat_minor": 2
}
