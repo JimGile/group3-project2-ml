{
 "cells": [
  {
   "cell_type": "code",
   "execution_count": 1,
   "metadata": {},
   "outputs": [],
   "source": [
    "import pandas as pd\n"
   ]
  },
  {
   "cell_type": "code",
   "execution_count": 2,
   "metadata": {},
   "outputs": [],
   "source": [
    "# Load the two CSV files\n",
    "mortgage_15yr = pd.read_csv('../Data/FRED/FRED_MORTGAGE15US.csv')\n",
    "mortgage_30yr = pd.read_csv('../Data/FRED/FRED_MORTGAGE30US.csv')"
   ]
  },
  {
   "cell_type": "code",
   "execution_count": 3,
   "metadata": {},
   "outputs": [],
   "source": [
    "# Merge the two datasets on the 'DATE' column\n",
    "merged_mortgage_data = pd.merge(mortgage_15yr, mortgage_30yr, on='DATE', how='inner')"
   ]
  },
  {
   "cell_type": "code",
   "execution_count": 4,
   "metadata": {},
   "outputs": [],
   "source": [
    "# Convert 'DATE' column to datetime format\n",
    "merged_mortgage_data['DATE'] = pd.to_datetime(merged_mortgage_data['DATE'])"
   ]
  },
  {
   "cell_type": "code",
   "execution_count": 5,
   "metadata": {},
   "outputs": [],
   "source": [
    "# Create a new feature: difference between 30-year and 15-year mortgage rates\n",
    "merged_mortgage_data['RATE_DIFFERENCE'] = merged_mortgage_data['MORTGAGE30US'] - merged_mortgage_data['MORTGAGE15US']"
   ]
  },
  {
   "cell_type": "code",
   "execution_count": 6,
   "metadata": {},
   "outputs": [
    {
     "name": "stdout",
     "output_type": "stream",
     "text": [
      "        DATE  MORTGAGE15US  MORTGAGE30US  RATE_DIFFERENCE\n",
      "0 1991-08-30          8.77          9.15             0.38\n",
      "1 1991-09-06          8.79          9.14             0.35\n",
      "2 1991-09-13          8.68          9.02             0.34\n",
      "3 1991-09-20          8.62          8.95             0.33\n",
      "4 1991-09-27          8.59          8.92             0.33\n"
     ]
    }
   ],
   "source": [
    "# Display the first few rows of the cleaned dataset\n",
    "print(merged_mortgage_data.head())"
   ]
  },
  {
   "cell_type": "code",
   "execution_count": 7,
   "metadata": {},
   "outputs": [
    {
     "name": "stderr",
     "output_type": "stream",
     "text": [
      "/var/folders/0v/k5cxfnrj4_x27cyj9ynqp8qh0000gn/T/ipykernel_73712/3041101503.py:3: FutureWarning: 'M' is deprecated and will be removed in a future version, please use 'ME' instead.\n",
      "  mortgage_monthly_avg = merged_mortgage_data.resample('M').mean()\n"
     ]
    }
   ],
   "source": [
    "# Set the 'DATE' column as the index for resampling with monthly averages\n",
    "merged_mortgage_data.set_index('DATE', inplace=True)\n",
    "mortgage_monthly_avg = merged_mortgage_data.resample('M').mean()"
   ]
  },
  {
   "cell_type": "code",
   "execution_count": 8,
   "metadata": {},
   "outputs": [
    {
     "data": {
      "text/html": [
       "<div>\n",
       "<style scoped>\n",
       "    .dataframe tbody tr th:only-of-type {\n",
       "        vertical-align: middle;\n",
       "    }\n",
       "\n",
       "    .dataframe tbody tr th {\n",
       "        vertical-align: top;\n",
       "    }\n",
       "\n",
       "    .dataframe thead th {\n",
       "        text-align: right;\n",
       "    }\n",
       "</style>\n",
       "<table border=\"1\" class=\"dataframe\">\n",
       "  <thead>\n",
       "    <tr style=\"text-align: right;\">\n",
       "      <th></th>\n",
       "      <th>MORTGAGE15US</th>\n",
       "      <th>MORTGAGE30US</th>\n",
       "      <th>RATE_DIFFERENCE</th>\n",
       "    </tr>\n",
       "    <tr>\n",
       "      <th>DATE</th>\n",
       "      <th></th>\n",
       "      <th></th>\n",
       "      <th></th>\n",
       "    </tr>\n",
       "  </thead>\n",
       "  <tbody>\n",
       "    <tr>\n",
       "      <th>1991-08-31</th>\n",
       "      <td>8.7700</td>\n",
       "      <td>9.1500</td>\n",
       "      <td>0.3800</td>\n",
       "    </tr>\n",
       "    <tr>\n",
       "      <th>1991-09-30</th>\n",
       "      <td>8.6700</td>\n",
       "      <td>9.0075</td>\n",
       "      <td>0.3375</td>\n",
       "    </tr>\n",
       "    <tr>\n",
       "      <th>1991-10-31</th>\n",
       "      <td>8.4825</td>\n",
       "      <td>8.8550</td>\n",
       "      <td>0.3725</td>\n",
       "    </tr>\n",
       "    <tr>\n",
       "      <th>1991-11-30</th>\n",
       "      <td>8.3260</td>\n",
       "      <td>8.7120</td>\n",
       "      <td>0.3860</td>\n",
       "    </tr>\n",
       "    <tr>\n",
       "      <th>1991-12-31</th>\n",
       "      <td>8.0700</td>\n",
       "      <td>8.4975</td>\n",
       "      <td>0.4275</td>\n",
       "    </tr>\n",
       "    <tr>\n",
       "      <th>...</th>\n",
       "      <td>...</td>\n",
       "      <td>...</td>\n",
       "      <td>...</td>\n",
       "    </tr>\n",
       "    <tr>\n",
       "      <th>2024-04-30</th>\n",
       "      <td>6.2625</td>\n",
       "      <td>6.9925</td>\n",
       "      <td>0.7300</td>\n",
       "    </tr>\n",
       "    <tr>\n",
       "      <th>2024-05-31</th>\n",
       "      <td>6.3460</td>\n",
       "      <td>7.0600</td>\n",
       "      <td>0.7140</td>\n",
       "    </tr>\n",
       "    <tr>\n",
       "      <th>2024-06-30</th>\n",
       "      <td>6.1875</td>\n",
       "      <td>6.9175</td>\n",
       "      <td>0.7300</td>\n",
       "    </tr>\n",
       "    <tr>\n",
       "      <th>2024-07-31</th>\n",
       "      <td>6.1350</td>\n",
       "      <td>6.8475</td>\n",
       "      <td>0.7125</td>\n",
       "    </tr>\n",
       "    <tr>\n",
       "      <th>2024-08-31</th>\n",
       "      <td>5.6820</td>\n",
       "      <td>6.5000</td>\n",
       "      <td>0.8180</td>\n",
       "    </tr>\n",
       "  </tbody>\n",
       "</table>\n",
       "<p>397 rows × 3 columns</p>\n",
       "</div>"
      ],
      "text/plain": [
       "            MORTGAGE15US  MORTGAGE30US  RATE_DIFFERENCE\n",
       "DATE                                                   \n",
       "1991-08-31        8.7700        9.1500           0.3800\n",
       "1991-09-30        8.6700        9.0075           0.3375\n",
       "1991-10-31        8.4825        8.8550           0.3725\n",
       "1991-11-30        8.3260        8.7120           0.3860\n",
       "1991-12-31        8.0700        8.4975           0.4275\n",
       "...                  ...           ...              ...\n",
       "2024-04-30        6.2625        6.9925           0.7300\n",
       "2024-05-31        6.3460        7.0600           0.7140\n",
       "2024-06-30        6.1875        6.9175           0.7300\n",
       "2024-07-31        6.1350        6.8475           0.7125\n",
       "2024-08-31        5.6820        6.5000           0.8180\n",
       "\n",
       "[397 rows x 3 columns]"
      ]
     },
     "execution_count": 8,
     "metadata": {},
     "output_type": "execute_result"
    }
   ],
   "source": [
    "\n",
    "mortgage_monthly_avg"
   ]
  },
  {
   "cell_type": "code",
   "execution_count": 9,
   "metadata": {},
   "outputs": [],
   "source": [
    "# Export the cleaned dataset to a CSV file\n",
    "mortgage_monthly_avg.to_csv('../Data/FRED/cleaned_mortgage_data.csv', index=False)"
   ]
  }
 ],
 "metadata": {
  "kernelspec": {
   "display_name": "base",
   "language": "python",
   "name": "python3"
  },
  "language_info": {
   "codemirror_mode": {
    "name": "ipython",
    "version": 3
   },
   "file_extension": ".py",
   "mimetype": "text/x-python",
   "name": "python",
   "nbconvert_exporter": "python",
   "pygments_lexer": "ipython3",
   "version": "3.11.7"
  }
 },
 "nbformat": 4,
 "nbformat_minor": 2
}
