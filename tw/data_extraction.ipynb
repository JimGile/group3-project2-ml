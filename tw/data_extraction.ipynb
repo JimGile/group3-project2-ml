{
 "cells": [
  {
   "cell_type": "code",
   "execution_count": 1,
   "metadata": {},
   "outputs": [],
   "source": [
    "import pandas as pd\n",
    "import numpy as np\n",
    "import matplotlib.pyplot as plt\n",
    "from sklearn.model_selection import train_test_split\n",
    "from sklearn.preprocessing import StandardScaler"
   ]
  },
  {
   "cell_type": "code",
   "execution_count": 2,
   "metadata": {},
   "outputs": [],
   "source": [
    "atlanta_df = pd.read_csv('../Data/Clean/Atlanta.csv')\n",
    "charlotte_df = pd.read_csv('../Data/Clean/Charlotte.csv')\n",
    "cincinnati_df = pd.read_csv('../Data/Clean/Cincinnati.csv')\n",
    "denver_df = pd.read_csv('../Data/Clean/Denver.csv')\n",
    "indianapolis_df = pd.read_csv('../Data/Clean/Indianapolis.csv')\n",
    "providence_df = pd.read_csv('../Data/Clean/Providence.csv')"
   ]
  },
  {
   "cell_type": "code",
   "execution_count": 3,
   "metadata": {},
   "outputs": [
    {
     "data": {
      "text/html": [
       "<div>\n",
       "<style scoped>\n",
       "    .dataframe tbody tr th:only-of-type {\n",
       "        vertical-align: middle;\n",
       "    }\n",
       "\n",
       "    .dataframe tbody tr th {\n",
       "        vertical-align: top;\n",
       "    }\n",
       "\n",
       "    .dataframe thead th {\n",
       "        text-align: right;\n",
       "    }\n",
       "</style>\n",
       "<table border=\"1\" class=\"dataframe\">\n",
       "  <thead>\n",
       "    <tr style=\"text-align: right;\">\n",
       "      <th></th>\n",
       "      <th>DATE</th>\n",
       "      <th>MarketTempIdx</th>\n",
       "      <th>DaysToClose</th>\n",
       "      <th>DaysOnZillow</th>\n",
       "      <th>ListingPriceCutAmt</th>\n",
       "      <th>ListingPriceCutPct</th>\n",
       "      <th>NewConstructMeanSalePrice</th>\n",
       "      <th>NewConstructSalesCount</th>\n",
       "      <th>SalesCount</th>\n",
       "      <th>SalePrice</th>\n",
       "      <th>MORTGAGE15US</th>\n",
       "      <th>MORTGAGE30US</th>\n",
       "      <th>RATE_DIFFERENCE</th>\n",
       "    </tr>\n",
       "  </thead>\n",
       "  <tbody>\n",
       "    <tr>\n",
       "      <th>0</th>\n",
       "      <td>2018-01</td>\n",
       "      <td>53.0</td>\n",
       "      <td>35.0</td>\n",
       "      <td>45.0</td>\n",
       "      <td>12315.431363</td>\n",
       "      <td>0.160343</td>\n",
       "      <td>298699.954978</td>\n",
       "      <td>1580.0</td>\n",
       "      <td>6828.0</td>\n",
       "      <td>216365.714317</td>\n",
       "      <td>3.482</td>\n",
       "      <td>4.033</td>\n",
       "      <td>0.550</td>\n",
       "    </tr>\n",
       "    <tr>\n",
       "      <th>1</th>\n",
       "      <td>2018-02</td>\n",
       "      <td>52.0</td>\n",
       "      <td>31.0</td>\n",
       "      <td>40.0</td>\n",
       "      <td>13361.053631</td>\n",
       "      <td>0.155572</td>\n",
       "      <td>309807.747078</td>\n",
       "      <td>1885.0</td>\n",
       "      <td>7862.0</td>\n",
       "      <td>218318.581498</td>\n",
       "      <td>3.785</td>\n",
       "      <td>4.330</td>\n",
       "      <td>0.545</td>\n",
       "    </tr>\n",
       "    <tr>\n",
       "      <th>2</th>\n",
       "      <td>2018-03</td>\n",
       "      <td>53.0</td>\n",
       "      <td>32.0</td>\n",
       "      <td>35.0</td>\n",
       "      <td>13712.279370</td>\n",
       "      <td>0.170905</td>\n",
       "      <td>325455.767902</td>\n",
       "      <td>2384.0</td>\n",
       "      <td>10600.0</td>\n",
       "      <td>220179.198175</td>\n",
       "      <td>3.910</td>\n",
       "      <td>4.444</td>\n",
       "      <td>0.534</td>\n",
       "    </tr>\n",
       "    <tr>\n",
       "      <th>3</th>\n",
       "      <td>2018-04</td>\n",
       "      <td>56.0</td>\n",
       "      <td>32.0</td>\n",
       "      <td>31.0</td>\n",
       "      <td>13456.497756</td>\n",
       "      <td>0.185078</td>\n",
       "      <td>324589.131298</td>\n",
       "      <td>1967.0</td>\n",
       "      <td>10883.0</td>\n",
       "      <td>221743.705815</td>\n",
       "      <td>3.925</td>\n",
       "      <td>4.468</td>\n",
       "      <td>0.543</td>\n",
       "    </tr>\n",
       "    <tr>\n",
       "      <th>4</th>\n",
       "      <td>2018-05</td>\n",
       "      <td>57.0</td>\n",
       "      <td>33.0</td>\n",
       "      <td>30.0</td>\n",
       "      <td>13292.195069</td>\n",
       "      <td>0.214794</td>\n",
       "      <td>338943.512924</td>\n",
       "      <td>1977.0</td>\n",
       "      <td>12512.0</td>\n",
       "      <td>223227.417852</td>\n",
       "      <td>4.066</td>\n",
       "      <td>4.586</td>\n",
       "      <td>0.520</td>\n",
       "    </tr>\n",
       "  </tbody>\n",
       "</table>\n",
       "</div>"
      ],
      "text/plain": [
       "      DATE  MarketTempIdx  DaysToClose  DaysOnZillow  ListingPriceCutAmt  \\\n",
       "0  2018-01           53.0         35.0          45.0        12315.431363   \n",
       "1  2018-02           52.0         31.0          40.0        13361.053631   \n",
       "2  2018-03           53.0         32.0          35.0        13712.279370   \n",
       "3  2018-04           56.0         32.0          31.0        13456.497756   \n",
       "4  2018-05           57.0         33.0          30.0        13292.195069   \n",
       "\n",
       "   ListingPriceCutPct  NewConstructMeanSalePrice  NewConstructSalesCount  \\\n",
       "0            0.160343              298699.954978                  1580.0   \n",
       "1            0.155572              309807.747078                  1885.0   \n",
       "2            0.170905              325455.767902                  2384.0   \n",
       "3            0.185078              324589.131298                  1967.0   \n",
       "4            0.214794              338943.512924                  1977.0   \n",
       "\n",
       "   SalesCount      SalePrice  MORTGAGE15US  MORTGAGE30US  RATE_DIFFERENCE  \n",
       "0      6828.0  216365.714317         3.482         4.033            0.550  \n",
       "1      7862.0  218318.581498         3.785         4.330            0.545  \n",
       "2     10600.0  220179.198175         3.910         4.444            0.534  \n",
       "3     10883.0  221743.705815         3.925         4.468            0.543  \n",
       "4     12512.0  223227.417852         4.066         4.586            0.520  "
      ]
     },
     "execution_count": 3,
     "metadata": {},
     "output_type": "execute_result"
    }
   ],
   "source": [
    "atlanta_df.head()\n"
   ]
  },
  {
   "cell_type": "code",
   "execution_count": 4,
   "metadata": {},
   "outputs": [
    {
     "name": "stdout",
     "output_type": "stream",
     "text": [
      "DATE                         0\n",
      "MarketTempIdx                0\n",
      "DaysToClose                  0\n",
      "DaysOnZillow                 0\n",
      "ListingPriceCutAmt           0\n",
      "ListingPriceCutPct           0\n",
      "NewConstructMeanSalePrice    0\n",
      "NewConstructSalesCount       0\n",
      "SalesCount                   0\n",
      "SalePrice                    0\n",
      "MORTGAGE15US                 0\n",
      "MORTGAGE30US                 0\n",
      "RATE_DIFFERENCE              0\n",
      "dtype: int64\n"
     ]
    }
   ],
   "source": [
    "# Check for missing values \n",
    "print(atlanta_df.isnull().sum())"
   ]
  },
  {
   "cell_type": "code",
   "execution_count": 5,
   "metadata": {},
   "outputs": [
    {
     "name": "stdout",
     "output_type": "stream",
     "text": [
      "<class 'pandas.core.frame.DataFrame'>\n",
      "RangeIndex: 78 entries, 0 to 77\n",
      "Data columns (total 13 columns):\n",
      " #   Column                     Non-Null Count  Dtype  \n",
      "---  ------                     --------------  -----  \n",
      " 0   DATE                       78 non-null     object \n",
      " 1   MarketTempIdx              78 non-null     float64\n",
      " 2   DaysToClose                78 non-null     float64\n",
      " 3   DaysOnZillow               78 non-null     float64\n",
      " 4   ListingPriceCutAmt         78 non-null     float64\n",
      " 5   ListingPriceCutPct         78 non-null     float64\n",
      " 6   NewConstructMeanSalePrice  78 non-null     float64\n",
      " 7   NewConstructSalesCount     78 non-null     float64\n",
      " 8   SalesCount                 78 non-null     float64\n",
      " 9   SalePrice                  78 non-null     float64\n",
      " 10  MORTGAGE15US               78 non-null     float64\n",
      " 11  MORTGAGE30US               78 non-null     float64\n",
      " 12  RATE_DIFFERENCE            78 non-null     float64\n",
      "dtypes: float64(12), object(1)\n",
      "memory usage: 8.1+ KB\n"
     ]
    }
   ],
   "source": [
    "atlanta_df.info()"
   ]
  },
  {
   "cell_type": "code",
   "execution_count": 6,
   "metadata": {},
   "outputs": [
    {
     "data": {
      "text/html": [
       "<div>\n",
       "<style scoped>\n",
       "    .dataframe tbody tr th:only-of-type {\n",
       "        vertical-align: middle;\n",
       "    }\n",
       "\n",
       "    .dataframe tbody tr th {\n",
       "        vertical-align: top;\n",
       "    }\n",
       "\n",
       "    .dataframe thead th {\n",
       "        text-align: right;\n",
       "    }\n",
       "</style>\n",
       "<table border=\"1\" class=\"dataframe\">\n",
       "  <thead>\n",
       "    <tr style=\"text-align: right;\">\n",
       "      <th></th>\n",
       "      <th>DATE</th>\n",
       "      <th>MarketTempIdx</th>\n",
       "      <th>DaysToClose</th>\n",
       "      <th>DaysOnZillow</th>\n",
       "      <th>ListingPriceCutAmt</th>\n",
       "      <th>ListingPriceCutPct</th>\n",
       "      <th>NewConstructMeanSalePrice</th>\n",
       "      <th>NewConstructSalesCount</th>\n",
       "      <th>SalesCount</th>\n",
       "      <th>SalePrice</th>\n",
       "      <th>MORTGAGE15US</th>\n",
       "      <th>MORTGAGE30US</th>\n",
       "      <th>RATE_DIFFERENCE</th>\n",
       "    </tr>\n",
       "  </thead>\n",
       "  <tbody>\n",
       "    <tr>\n",
       "      <th>0</th>\n",
       "      <td>2018-01</td>\n",
       "      <td>53.0</td>\n",
       "      <td>40.0</td>\n",
       "      <td>40.0</td>\n",
       "      <td>11243.116613</td>\n",
       "      <td>0.143878</td>\n",
       "      <td>331002.751220</td>\n",
       "      <td>700.0</td>\n",
       "      <td>2988.0</td>\n",
       "      <td>214397.286147</td>\n",
       "      <td>3.482</td>\n",
       "      <td>4.033</td>\n",
       "      <td>0.550</td>\n",
       "    </tr>\n",
       "    <tr>\n",
       "      <th>1</th>\n",
       "      <td>2018-02</td>\n",
       "      <td>52.0</td>\n",
       "      <td>36.0</td>\n",
       "      <td>35.0</td>\n",
       "      <td>12605.449194</td>\n",
       "      <td>0.156792</td>\n",
       "      <td>321081.860710</td>\n",
       "      <td>761.0</td>\n",
       "      <td>3131.0</td>\n",
       "      <td>216017.822527</td>\n",
       "      <td>3.785</td>\n",
       "      <td>4.330</td>\n",
       "      <td>0.545</td>\n",
       "    </tr>\n",
       "    <tr>\n",
       "      <th>2</th>\n",
       "      <td>2018-03</td>\n",
       "      <td>53.0</td>\n",
       "      <td>34.0</td>\n",
       "      <td>30.0</td>\n",
       "      <td>12760.508333</td>\n",
       "      <td>0.168021</td>\n",
       "      <td>334866.760000</td>\n",
       "      <td>954.0</td>\n",
       "      <td>4302.0</td>\n",
       "      <td>217678.457946</td>\n",
       "      <td>3.910</td>\n",
       "      <td>4.444</td>\n",
       "      <td>0.534</td>\n",
       "    </tr>\n",
       "    <tr>\n",
       "      <th>3</th>\n",
       "      <td>2018-04</td>\n",
       "      <td>54.0</td>\n",
       "      <td>36.0</td>\n",
       "      <td>27.0</td>\n",
       "      <td>13261.422895</td>\n",
       "      <td>0.191695</td>\n",
       "      <td>354226.079731</td>\n",
       "      <td>932.0</td>\n",
       "      <td>4395.0</td>\n",
       "      <td>218995.506605</td>\n",
       "      <td>3.925</td>\n",
       "      <td>4.468</td>\n",
       "      <td>0.543</td>\n",
       "    </tr>\n",
       "    <tr>\n",
       "      <th>4</th>\n",
       "      <td>2018-05</td>\n",
       "      <td>54.0</td>\n",
       "      <td>37.0</td>\n",
       "      <td>28.0</td>\n",
       "      <td>12713.534753</td>\n",
       "      <td>0.219585</td>\n",
       "      <td>363532.372678</td>\n",
       "      <td>917.0</td>\n",
       "      <td>4977.0</td>\n",
       "      <td>220144.546519</td>\n",
       "      <td>4.066</td>\n",
       "      <td>4.586</td>\n",
       "      <td>0.520</td>\n",
       "    </tr>\n",
       "  </tbody>\n",
       "</table>\n",
       "</div>"
      ],
      "text/plain": [
       "      DATE  MarketTempIdx  DaysToClose  DaysOnZillow  ListingPriceCutAmt  \\\n",
       "0  2018-01           53.0         40.0          40.0        11243.116613   \n",
       "1  2018-02           52.0         36.0          35.0        12605.449194   \n",
       "2  2018-03           53.0         34.0          30.0        12760.508333   \n",
       "3  2018-04           54.0         36.0          27.0        13261.422895   \n",
       "4  2018-05           54.0         37.0          28.0        12713.534753   \n",
       "\n",
       "   ListingPriceCutPct  NewConstructMeanSalePrice  NewConstructSalesCount  \\\n",
       "0            0.143878              331002.751220                   700.0   \n",
       "1            0.156792              321081.860710                   761.0   \n",
       "2            0.168021              334866.760000                   954.0   \n",
       "3            0.191695              354226.079731                   932.0   \n",
       "4            0.219585              363532.372678                   917.0   \n",
       "\n",
       "   SalesCount      SalePrice  MORTGAGE15US  MORTGAGE30US  RATE_DIFFERENCE  \n",
       "0      2988.0  214397.286147         3.482         4.033            0.550  \n",
       "1      3131.0  216017.822527         3.785         4.330            0.545  \n",
       "2      4302.0  217678.457946         3.910         4.444            0.534  \n",
       "3      4395.0  218995.506605         3.925         4.468            0.543  \n",
       "4      4977.0  220144.546519         4.066         4.586            0.520  "
      ]
     },
     "execution_count": 6,
     "metadata": {},
     "output_type": "execute_result"
    }
   ],
   "source": [
    "charlotte_df.head()"
   ]
  },
  {
   "cell_type": "code",
   "execution_count": 7,
   "metadata": {},
   "outputs": [
    {
     "name": "stdout",
     "output_type": "stream",
     "text": [
      "DATE                         0\n",
      "MarketTempIdx                0\n",
      "DaysToClose                  0\n",
      "DaysOnZillow                 0\n",
      "ListingPriceCutAmt           0\n",
      "ListingPriceCutPct           0\n",
      "NewConstructMeanSalePrice    0\n",
      "NewConstructSalesCount       0\n",
      "SalesCount                   0\n",
      "SalePrice                    0\n",
      "MORTGAGE15US                 0\n",
      "MORTGAGE30US                 0\n",
      "RATE_DIFFERENCE              0\n",
      "dtype: int64\n"
     ]
    }
   ],
   "source": [
    "# Check for missing values \n",
    "print(charlotte_df.isnull().sum())"
   ]
  },
  {
   "cell_type": "code",
   "execution_count": 8,
   "metadata": {},
   "outputs": [
    {
     "name": "stdout",
     "output_type": "stream",
     "text": [
      "<class 'pandas.core.frame.DataFrame'>\n",
      "RangeIndex: 78 entries, 0 to 77\n",
      "Data columns (total 13 columns):\n",
      " #   Column                     Non-Null Count  Dtype  \n",
      "---  ------                     --------------  -----  \n",
      " 0   DATE                       78 non-null     object \n",
      " 1   MarketTempIdx              78 non-null     float64\n",
      " 2   DaysToClose                78 non-null     float64\n",
      " 3   DaysOnZillow               78 non-null     float64\n",
      " 4   ListingPriceCutAmt         78 non-null     float64\n",
      " 5   ListingPriceCutPct         78 non-null     float64\n",
      " 6   NewConstructMeanSalePrice  78 non-null     float64\n",
      " 7   NewConstructSalesCount     78 non-null     float64\n",
      " 8   SalesCount                 78 non-null     float64\n",
      " 9   SalePrice                  78 non-null     float64\n",
      " 10  MORTGAGE15US               78 non-null     float64\n",
      " 11  MORTGAGE30US               78 non-null     float64\n",
      " 12  RATE_DIFFERENCE            78 non-null     float64\n",
      "dtypes: float64(12), object(1)\n",
      "memory usage: 8.1+ KB\n"
     ]
    }
   ],
   "source": [
    "charlotte_df.info()"
   ]
  },
  {
   "cell_type": "code",
   "execution_count": 9,
   "metadata": {},
   "outputs": [
    {
     "data": {
      "text/html": [
       "<div>\n",
       "<style scoped>\n",
       "    .dataframe tbody tr th:only-of-type {\n",
       "        vertical-align: middle;\n",
       "    }\n",
       "\n",
       "    .dataframe tbody tr th {\n",
       "        vertical-align: top;\n",
       "    }\n",
       "\n",
       "    .dataframe thead th {\n",
       "        text-align: right;\n",
       "    }\n",
       "</style>\n",
       "<table border=\"1\" class=\"dataframe\">\n",
       "  <thead>\n",
       "    <tr style=\"text-align: right;\">\n",
       "      <th></th>\n",
       "      <th>DATE</th>\n",
       "      <th>MarketTempIdx</th>\n",
       "      <th>DaysToClose</th>\n",
       "      <th>DaysOnZillow</th>\n",
       "      <th>ListingPriceCutAmt</th>\n",
       "      <th>ListingPriceCutPct</th>\n",
       "      <th>NewConstructMeanSalePrice</th>\n",
       "      <th>NewConstructSalesCount</th>\n",
       "      <th>SalesCount</th>\n",
       "      <th>SalePrice</th>\n",
       "      <th>MORTGAGE15US</th>\n",
       "      <th>MORTGAGE30US</th>\n",
       "      <th>RATE_DIFFERENCE</th>\n",
       "    </tr>\n",
       "  </thead>\n",
       "  <tbody>\n",
       "    <tr>\n",
       "      <th>0</th>\n",
       "      <td>2018-01</td>\n",
       "      <td>42.0</td>\n",
       "      <td>39.0</td>\n",
       "      <td>49.0</td>\n",
       "      <td>8892.789676</td>\n",
       "      <td>0.188391</td>\n",
       "      <td>277393.789308</td>\n",
       "      <td>321.0</td>\n",
       "      <td>1979.0</td>\n",
       "      <td>173346.496800</td>\n",
       "      <td>3.482</td>\n",
       "      <td>4.033</td>\n",
       "      <td>0.550</td>\n",
       "    </tr>\n",
       "    <tr>\n",
       "      <th>1</th>\n",
       "      <td>2018-02</td>\n",
       "      <td>43.0</td>\n",
       "      <td>37.0</td>\n",
       "      <td>44.0</td>\n",
       "      <td>9781.125106</td>\n",
       "      <td>0.170206</td>\n",
       "      <td>269154.079051</td>\n",
       "      <td>254.0</td>\n",
       "      <td>1948.0</td>\n",
       "      <td>174075.384919</td>\n",
       "      <td>3.785</td>\n",
       "      <td>4.330</td>\n",
       "      <td>0.545</td>\n",
       "    </tr>\n",
       "    <tr>\n",
       "      <th>2</th>\n",
       "      <td>2018-03</td>\n",
       "      <td>46.0</td>\n",
       "      <td>35.0</td>\n",
       "      <td>35.0</td>\n",
       "      <td>9846.737418</td>\n",
       "      <td>0.178320</td>\n",
       "      <td>315383.311005</td>\n",
       "      <td>210.0</td>\n",
       "      <td>2960.0</td>\n",
       "      <td>175200.375854</td>\n",
       "      <td>3.910</td>\n",
       "      <td>4.444</td>\n",
       "      <td>0.534</td>\n",
       "    </tr>\n",
       "    <tr>\n",
       "      <th>3</th>\n",
       "      <td>2018-04</td>\n",
       "      <td>50.0</td>\n",
       "      <td>37.0</td>\n",
       "      <td>32.0</td>\n",
       "      <td>11134.855937</td>\n",
       "      <td>0.201177</td>\n",
       "      <td>269780.945055</td>\n",
       "      <td>182.0</td>\n",
       "      <td>3173.0</td>\n",
       "      <td>176430.244009</td>\n",
       "      <td>3.925</td>\n",
       "      <td>4.468</td>\n",
       "      <td>0.543</td>\n",
       "    </tr>\n",
       "    <tr>\n",
       "      <th>4</th>\n",
       "      <td>2018-05</td>\n",
       "      <td>51.0</td>\n",
       "      <td>38.0</td>\n",
       "      <td>27.0</td>\n",
       "      <td>11504.665660</td>\n",
       "      <td>0.217566</td>\n",
       "      <td>291332.251613</td>\n",
       "      <td>155.0</td>\n",
       "      <td>3506.0</td>\n",
       "      <td>177773.394767</td>\n",
       "      <td>4.066</td>\n",
       "      <td>4.586</td>\n",
       "      <td>0.520</td>\n",
       "    </tr>\n",
       "  </tbody>\n",
       "</table>\n",
       "</div>"
      ],
      "text/plain": [
       "      DATE  MarketTempIdx  DaysToClose  DaysOnZillow  ListingPriceCutAmt  \\\n",
       "0  2018-01           42.0         39.0          49.0         8892.789676   \n",
       "1  2018-02           43.0         37.0          44.0         9781.125106   \n",
       "2  2018-03           46.0         35.0          35.0         9846.737418   \n",
       "3  2018-04           50.0         37.0          32.0        11134.855937   \n",
       "4  2018-05           51.0         38.0          27.0        11504.665660   \n",
       "\n",
       "   ListingPriceCutPct  NewConstructMeanSalePrice  NewConstructSalesCount  \\\n",
       "0            0.188391              277393.789308                   321.0   \n",
       "1            0.170206              269154.079051                   254.0   \n",
       "2            0.178320              315383.311005                   210.0   \n",
       "3            0.201177              269780.945055                   182.0   \n",
       "4            0.217566              291332.251613                   155.0   \n",
       "\n",
       "   SalesCount      SalePrice  MORTGAGE15US  MORTGAGE30US  RATE_DIFFERENCE  \n",
       "0      1979.0  173346.496800         3.482         4.033            0.550  \n",
       "1      1948.0  174075.384919         3.785         4.330            0.545  \n",
       "2      2960.0  175200.375854         3.910         4.444            0.534  \n",
       "3      3173.0  176430.244009         3.925         4.468            0.543  \n",
       "4      3506.0  177773.394767         4.066         4.586            0.520  "
      ]
     },
     "execution_count": 9,
     "metadata": {},
     "output_type": "execute_result"
    }
   ],
   "source": [
    "cincinnati_df.head()"
   ]
  },
  {
   "cell_type": "code",
   "execution_count": 10,
   "metadata": {},
   "outputs": [
    {
     "name": "stdout",
     "output_type": "stream",
     "text": [
      "DATE                         0\n",
      "MarketTempIdx                0\n",
      "DaysToClose                  0\n",
      "DaysOnZillow                 0\n",
      "ListingPriceCutAmt           0\n",
      "ListingPriceCutPct           0\n",
      "NewConstructMeanSalePrice    0\n",
      "NewConstructSalesCount       0\n",
      "SalesCount                   1\n",
      "SalePrice                    0\n",
      "MORTGAGE15US                 0\n",
      "MORTGAGE30US                 0\n",
      "RATE_DIFFERENCE              0\n",
      "dtype: int64\n"
     ]
    }
   ],
   "source": [
    "# Check for missing values \n",
    "print(cincinnati_df.isnull().sum())"
   ]
  },
  {
   "cell_type": "code",
   "execution_count": 11,
   "metadata": {},
   "outputs": [
    {
     "name": "stdout",
     "output_type": "stream",
     "text": [
      "<class 'pandas.core.frame.DataFrame'>\n",
      "RangeIndex: 78 entries, 0 to 77\n",
      "Data columns (total 13 columns):\n",
      " #   Column                     Non-Null Count  Dtype  \n",
      "---  ------                     --------------  -----  \n",
      " 0   DATE                       78 non-null     object \n",
      " 1   MarketTempIdx              78 non-null     float64\n",
      " 2   DaysToClose                78 non-null     float64\n",
      " 3   DaysOnZillow               78 non-null     float64\n",
      " 4   ListingPriceCutAmt         78 non-null     float64\n",
      " 5   ListingPriceCutPct         78 non-null     float64\n",
      " 6   NewConstructMeanSalePrice  78 non-null     float64\n",
      " 7   NewConstructSalesCount     78 non-null     float64\n",
      " 8   SalesCount                 77 non-null     float64\n",
      " 9   SalePrice                  78 non-null     float64\n",
      " 10  MORTGAGE15US               78 non-null     float64\n",
      " 11  MORTGAGE30US               78 non-null     float64\n",
      " 12  RATE_DIFFERENCE            78 non-null     float64\n",
      "dtypes: float64(12), object(1)\n",
      "memory usage: 8.1+ KB\n"
     ]
    }
   ],
   "source": [
    "cincinnati_df.info()"
   ]
  },
  {
   "cell_type": "code",
   "execution_count": 12,
   "metadata": {},
   "outputs": [
    {
     "data": {
      "text/html": [
       "<div>\n",
       "<style scoped>\n",
       "    .dataframe tbody tr th:only-of-type {\n",
       "        vertical-align: middle;\n",
       "    }\n",
       "\n",
       "    .dataframe tbody tr th {\n",
       "        vertical-align: top;\n",
       "    }\n",
       "\n",
       "    .dataframe thead th {\n",
       "        text-align: right;\n",
       "    }\n",
       "</style>\n",
       "<table border=\"1\" class=\"dataframe\">\n",
       "  <thead>\n",
       "    <tr style=\"text-align: right;\">\n",
       "      <th></th>\n",
       "      <th>DATE</th>\n",
       "      <th>MarketTempIdx</th>\n",
       "      <th>DaysToClose</th>\n",
       "      <th>DaysOnZillow</th>\n",
       "      <th>ListingPriceCutAmt</th>\n",
       "      <th>ListingPriceCutPct</th>\n",
       "      <th>NewConstructMeanSalePrice</th>\n",
       "      <th>NewConstructSalesCount</th>\n",
       "      <th>SalesCount</th>\n",
       "      <th>SalePrice</th>\n",
       "      <th>MORTGAGE15US</th>\n",
       "      <th>MORTGAGE30US</th>\n",
       "      <th>RATE_DIFFERENCE</th>\n",
       "    </tr>\n",
       "  </thead>\n",
       "  <tbody>\n",
       "    <tr>\n",
       "      <th>0</th>\n",
       "      <td>2018-01</td>\n",
       "      <td>74.0</td>\n",
       "      <td>34.0</td>\n",
       "      <td>28.0</td>\n",
       "      <td>16733.849533</td>\n",
       "      <td>0.133225</td>\n",
       "      <td>537706.730205</td>\n",
       "      <td>682.0</td>\n",
       "      <td>3169.0</td>\n",
       "      <td>397708.149372</td>\n",
       "      <td>3.482</td>\n",
       "      <td>4.033</td>\n",
       "      <td>0.550</td>\n",
       "    </tr>\n",
       "    <tr>\n",
       "      <th>1</th>\n",
       "      <td>2018-02</td>\n",
       "      <td>72.0</td>\n",
       "      <td>31.0</td>\n",
       "      <td>22.0</td>\n",
       "      <td>16423.930620</td>\n",
       "      <td>0.130210</td>\n",
       "      <td>545468.537291</td>\n",
       "      <td>657.0</td>\n",
       "      <td>3395.0</td>\n",
       "      <td>400872.926042</td>\n",
       "      <td>3.785</td>\n",
       "      <td>4.330</td>\n",
       "      <td>0.545</td>\n",
       "    </tr>\n",
       "    <tr>\n",
       "      <th>2</th>\n",
       "      <td>2018-03</td>\n",
       "      <td>71.0</td>\n",
       "      <td>30.0</td>\n",
       "      <td>19.0</td>\n",
       "      <td>16012.326935</td>\n",
       "      <td>0.153830</td>\n",
       "      <td>549485.507056</td>\n",
       "      <td>992.0</td>\n",
       "      <td>4766.0</td>\n",
       "      <td>403904.017509</td>\n",
       "      <td>3.910</td>\n",
       "      <td>4.444</td>\n",
       "      <td>0.534</td>\n",
       "    </tr>\n",
       "    <tr>\n",
       "      <th>3</th>\n",
       "      <td>2018-04</td>\n",
       "      <td>70.0</td>\n",
       "      <td>31.0</td>\n",
       "      <td>16.0</td>\n",
       "      <td>16674.160324</td>\n",
       "      <td>0.178077</td>\n",
       "      <td>555329.230501</td>\n",
       "      <td>859.0</td>\n",
       "      <td>5045.0</td>\n",
       "      <td>406571.265108</td>\n",
       "      <td>3.925</td>\n",
       "      <td>4.468</td>\n",
       "      <td>0.543</td>\n",
       "    </tr>\n",
       "    <tr>\n",
       "      <th>4</th>\n",
       "      <td>2018-05</td>\n",
       "      <td>68.0</td>\n",
       "      <td>32.0</td>\n",
       "      <td>17.0</td>\n",
       "      <td>15617.310131</td>\n",
       "      <td>0.220831</td>\n",
       "      <td>543572.326351</td>\n",
       "      <td>907.0</td>\n",
       "      <td>5812.0</td>\n",
       "      <td>409135.348940</td>\n",
       "      <td>4.066</td>\n",
       "      <td>4.586</td>\n",
       "      <td>0.520</td>\n",
       "    </tr>\n",
       "  </tbody>\n",
       "</table>\n",
       "</div>"
      ],
      "text/plain": [
       "      DATE  MarketTempIdx  DaysToClose  DaysOnZillow  ListingPriceCutAmt  \\\n",
       "0  2018-01           74.0         34.0          28.0        16733.849533   \n",
       "1  2018-02           72.0         31.0          22.0        16423.930620   \n",
       "2  2018-03           71.0         30.0          19.0        16012.326935   \n",
       "3  2018-04           70.0         31.0          16.0        16674.160324   \n",
       "4  2018-05           68.0         32.0          17.0        15617.310131   \n",
       "\n",
       "   ListingPriceCutPct  NewConstructMeanSalePrice  NewConstructSalesCount  \\\n",
       "0            0.133225              537706.730205                   682.0   \n",
       "1            0.130210              545468.537291                   657.0   \n",
       "2            0.153830              549485.507056                   992.0   \n",
       "3            0.178077              555329.230501                   859.0   \n",
       "4            0.220831              543572.326351                   907.0   \n",
       "\n",
       "   SalesCount      SalePrice  MORTGAGE15US  MORTGAGE30US  RATE_DIFFERENCE  \n",
       "0      3169.0  397708.149372         3.482         4.033            0.550  \n",
       "1      3395.0  400872.926042         3.785         4.330            0.545  \n",
       "2      4766.0  403904.017509         3.910         4.444            0.534  \n",
       "3      5045.0  406571.265108         3.925         4.468            0.543  \n",
       "4      5812.0  409135.348940         4.066         4.586            0.520  "
      ]
     },
     "execution_count": 12,
     "metadata": {},
     "output_type": "execute_result"
    }
   ],
   "source": [
    "denver_df.head()"
   ]
  },
  {
   "cell_type": "code",
   "execution_count": 13,
   "metadata": {},
   "outputs": [
    {
     "name": "stdout",
     "output_type": "stream",
     "text": [
      "DATE                         0\n",
      "MarketTempIdx                0\n",
      "DaysToClose                  0\n",
      "DaysOnZillow                 0\n",
      "ListingPriceCutAmt           0\n",
      "ListingPriceCutPct           0\n",
      "NewConstructMeanSalePrice    0\n",
      "NewConstructSalesCount       0\n",
      "SalesCount                   0\n",
      "SalePrice                    0\n",
      "MORTGAGE15US                 0\n",
      "MORTGAGE30US                 0\n",
      "RATE_DIFFERENCE              0\n",
      "dtype: int64\n"
     ]
    }
   ],
   "source": [
    "# Check for missing values \n",
    "print(denver_df.isnull().sum())"
   ]
  },
  {
   "cell_type": "code",
   "execution_count": 14,
   "metadata": {},
   "outputs": [
    {
     "name": "stdout",
     "output_type": "stream",
     "text": [
      "<class 'pandas.core.frame.DataFrame'>\n",
      "RangeIndex: 78 entries, 0 to 77\n",
      "Data columns (total 13 columns):\n",
      " #   Column                     Non-Null Count  Dtype  \n",
      "---  ------                     --------------  -----  \n",
      " 0   DATE                       78 non-null     object \n",
      " 1   MarketTempIdx              78 non-null     float64\n",
      " 2   DaysToClose                78 non-null     float64\n",
      " 3   DaysOnZillow               78 non-null     float64\n",
      " 4   ListingPriceCutAmt         78 non-null     float64\n",
      " 5   ListingPriceCutPct         78 non-null     float64\n",
      " 6   NewConstructMeanSalePrice  78 non-null     float64\n",
      " 7   NewConstructSalesCount     78 non-null     float64\n",
      " 8   SalesCount                 78 non-null     float64\n",
      " 9   SalePrice                  78 non-null     float64\n",
      " 10  MORTGAGE15US               78 non-null     float64\n",
      " 11  MORTGAGE30US               78 non-null     float64\n",
      " 12  RATE_DIFFERENCE            78 non-null     float64\n",
      "dtypes: float64(12), object(1)\n",
      "memory usage: 8.1+ KB\n"
     ]
    }
   ],
   "source": [
    "denver_df.info()"
   ]
  },
  {
   "cell_type": "code",
   "execution_count": 15,
   "metadata": {},
   "outputs": [
    {
     "data": {
      "text/html": [
       "<div>\n",
       "<style scoped>\n",
       "    .dataframe tbody tr th:only-of-type {\n",
       "        vertical-align: middle;\n",
       "    }\n",
       "\n",
       "    .dataframe tbody tr th {\n",
       "        vertical-align: top;\n",
       "    }\n",
       "\n",
       "    .dataframe thead th {\n",
       "        text-align: right;\n",
       "    }\n",
       "</style>\n",
       "<table border=\"1\" class=\"dataframe\">\n",
       "  <thead>\n",
       "    <tr style=\"text-align: right;\">\n",
       "      <th></th>\n",
       "      <th>DATE</th>\n",
       "      <th>MarketTempIdx</th>\n",
       "      <th>DaysToClose</th>\n",
       "      <th>DaysOnZillow</th>\n",
       "      <th>ListingPriceCutAmt</th>\n",
       "      <th>ListingPriceCutPct</th>\n",
       "      <th>NewConstructMeanSalePrice</th>\n",
       "      <th>NewConstructSalesCount</th>\n",
       "      <th>SalesCount</th>\n",
       "      <th>SalePrice</th>\n",
       "      <th>MORTGAGE15US</th>\n",
       "      <th>MORTGAGE30US</th>\n",
       "      <th>RATE_DIFFERENCE</th>\n",
       "    </tr>\n",
       "  </thead>\n",
       "  <tbody>\n",
       "    <tr>\n",
       "      <th>0</th>\n",
       "      <td>2018-01</td>\n",
       "      <td>44.0</td>\n",
       "      <td>31.0</td>\n",
       "      <td>50.0</td>\n",
       "      <td>9565.188841</td>\n",
       "      <td>0.165976</td>\n",
       "      <td>297822.061594</td>\n",
       "      <td>276.0</td>\n",
       "      <td>2284.0</td>\n",
       "      <td>163700.591608</td>\n",
       "      <td>3.482</td>\n",
       "      <td>4.033</td>\n",
       "      <td>0.550</td>\n",
       "    </tr>\n",
       "    <tr>\n",
       "      <th>1</th>\n",
       "      <td>2018-02</td>\n",
       "      <td>44.0</td>\n",
       "      <td>29.0</td>\n",
       "      <td>48.0</td>\n",
       "      <td>9187.455993</td>\n",
       "      <td>0.147806</td>\n",
       "      <td>320292.490323</td>\n",
       "      <td>317.0</td>\n",
       "      <td>2459.0</td>\n",
       "      <td>164520.933841</td>\n",
       "      <td>3.785</td>\n",
       "      <td>4.330</td>\n",
       "      <td>0.545</td>\n",
       "    </tr>\n",
       "    <tr>\n",
       "      <th>2</th>\n",
       "      <td>2018-03</td>\n",
       "      <td>50.0</td>\n",
       "      <td>28.0</td>\n",
       "      <td>40.0</td>\n",
       "      <td>9530.067247</td>\n",
       "      <td>0.154958</td>\n",
       "      <td>333248.685714</td>\n",
       "      <td>315.0</td>\n",
       "      <td>3118.0</td>\n",
       "      <td>165635.755273</td>\n",
       "      <td>3.910</td>\n",
       "      <td>4.444</td>\n",
       "      <td>0.534</td>\n",
       "    </tr>\n",
       "    <tr>\n",
       "      <th>3</th>\n",
       "      <td>2018-04</td>\n",
       "      <td>58.0</td>\n",
       "      <td>29.0</td>\n",
       "      <td>36.0</td>\n",
       "      <td>9858.027416</td>\n",
       "      <td>0.173512</td>\n",
       "      <td>363757.471774</td>\n",
       "      <td>249.0</td>\n",
       "      <td>3529.0</td>\n",
       "      <td>166888.280898</td>\n",
       "      <td>3.925</td>\n",
       "      <td>4.468</td>\n",
       "      <td>0.543</td>\n",
       "    </tr>\n",
       "    <tr>\n",
       "      <th>4</th>\n",
       "      <td>2018-05</td>\n",
       "      <td>61.0</td>\n",
       "      <td>36.0</td>\n",
       "      <td>25.0</td>\n",
       "      <td>10074.075684</td>\n",
       "      <td>0.221585</td>\n",
       "      <td>346813.219178</td>\n",
       "      <td>221.0</td>\n",
       "      <td>4005.0</td>\n",
       "      <td>168294.331977</td>\n",
       "      <td>4.066</td>\n",
       "      <td>4.586</td>\n",
       "      <td>0.520</td>\n",
       "    </tr>\n",
       "  </tbody>\n",
       "</table>\n",
       "</div>"
      ],
      "text/plain": [
       "      DATE  MarketTempIdx  DaysToClose  DaysOnZillow  ListingPriceCutAmt  \\\n",
       "0  2018-01           44.0         31.0          50.0         9565.188841   \n",
       "1  2018-02           44.0         29.0          48.0         9187.455993   \n",
       "2  2018-03           50.0         28.0          40.0         9530.067247   \n",
       "3  2018-04           58.0         29.0          36.0         9858.027416   \n",
       "4  2018-05           61.0         36.0          25.0        10074.075684   \n",
       "\n",
       "   ListingPriceCutPct  NewConstructMeanSalePrice  NewConstructSalesCount  \\\n",
       "0            0.165976              297822.061594                   276.0   \n",
       "1            0.147806              320292.490323                   317.0   \n",
       "2            0.154958              333248.685714                   315.0   \n",
       "3            0.173512              363757.471774                   249.0   \n",
       "4            0.221585              346813.219178                   221.0   \n",
       "\n",
       "   SalesCount      SalePrice  MORTGAGE15US  MORTGAGE30US  RATE_DIFFERENCE  \n",
       "0      2284.0  163700.591608         3.482         4.033            0.550  \n",
       "1      2459.0  164520.933841         3.785         4.330            0.545  \n",
       "2      3118.0  165635.755273         3.910         4.444            0.534  \n",
       "3      3529.0  166888.280898         3.925         4.468            0.543  \n",
       "4      4005.0  168294.331977         4.066         4.586            0.520  "
      ]
     },
     "execution_count": 15,
     "metadata": {},
     "output_type": "execute_result"
    }
   ],
   "source": [
    "indianapolis_df.head()"
   ]
  },
  {
   "cell_type": "code",
   "execution_count": 16,
   "metadata": {},
   "outputs": [
    {
     "name": "stdout",
     "output_type": "stream",
     "text": [
      "DATE                         0\n",
      "MarketTempIdx                0\n",
      "DaysToClose                  0\n",
      "DaysOnZillow                 0\n",
      "ListingPriceCutAmt           0\n",
      "ListingPriceCutPct           0\n",
      "NewConstructMeanSalePrice    0\n",
      "NewConstructSalesCount       0\n",
      "SalesCount                   0\n",
      "SalePrice                    0\n",
      "MORTGAGE15US                 0\n",
      "MORTGAGE30US                 0\n",
      "RATE_DIFFERENCE              0\n",
      "dtype: int64\n"
     ]
    }
   ],
   "source": [
    "# Check for missing values \n",
    "print(indianapolis_df.isnull().sum())"
   ]
  },
  {
   "cell_type": "code",
   "execution_count": 17,
   "metadata": {},
   "outputs": [
    {
     "name": "stdout",
     "output_type": "stream",
     "text": [
      "<class 'pandas.core.frame.DataFrame'>\n",
      "RangeIndex: 78 entries, 0 to 77\n",
      "Data columns (total 13 columns):\n",
      " #   Column                     Non-Null Count  Dtype  \n",
      "---  ------                     --------------  -----  \n",
      " 0   DATE                       78 non-null     object \n",
      " 1   MarketTempIdx              78 non-null     float64\n",
      " 2   DaysToClose                78 non-null     float64\n",
      " 3   DaysOnZillow               78 non-null     float64\n",
      " 4   ListingPriceCutAmt         78 non-null     float64\n",
      " 5   ListingPriceCutPct         78 non-null     float64\n",
      " 6   NewConstructMeanSalePrice  78 non-null     float64\n",
      " 7   NewConstructSalesCount     78 non-null     float64\n",
      " 8   SalesCount                 78 non-null     float64\n",
      " 9   SalePrice                  78 non-null     float64\n",
      " 10  MORTGAGE15US               78 non-null     float64\n",
      " 11  MORTGAGE30US               78 non-null     float64\n",
      " 12  RATE_DIFFERENCE            78 non-null     float64\n",
      "dtypes: float64(12), object(1)\n",
      "memory usage: 8.1+ KB\n"
     ]
    }
   ],
   "source": [
    "indianapolis_df.info()"
   ]
  },
  {
   "cell_type": "code",
   "execution_count": 18,
   "metadata": {},
   "outputs": [
    {
     "data": {
      "text/html": [
       "<div>\n",
       "<style scoped>\n",
       "    .dataframe tbody tr th:only-of-type {\n",
       "        vertical-align: middle;\n",
       "    }\n",
       "\n",
       "    .dataframe tbody tr th {\n",
       "        vertical-align: top;\n",
       "    }\n",
       "\n",
       "    .dataframe thead th {\n",
       "        text-align: right;\n",
       "    }\n",
       "</style>\n",
       "<table border=\"1\" class=\"dataframe\">\n",
       "  <thead>\n",
       "    <tr style=\"text-align: right;\">\n",
       "      <th></th>\n",
       "      <th>DATE</th>\n",
       "      <th>MarketTempIdx</th>\n",
       "      <th>DaysToClose</th>\n",
       "      <th>DaysOnZillow</th>\n",
       "      <th>ListingPriceCutAmt</th>\n",
       "      <th>ListingPriceCutPct</th>\n",
       "      <th>NewConstructMeanSalePrice</th>\n",
       "      <th>NewConstructSalesCount</th>\n",
       "      <th>SalesCount</th>\n",
       "      <th>SalePrice</th>\n",
       "      <th>MORTGAGE15US</th>\n",
       "      <th>MORTGAGE30US</th>\n",
       "      <th>RATE_DIFFERENCE</th>\n",
       "    </tr>\n",
       "  </thead>\n",
       "  <tbody>\n",
       "    <tr>\n",
       "      <th>0</th>\n",
       "      <td>2018-01</td>\n",
       "      <td>52.0</td>\n",
       "      <td>44.0</td>\n",
       "      <td>59.0</td>\n",
       "      <td>14886.916910</td>\n",
       "      <td>0.135527</td>\n",
       "      <td>357332.586667</td>\n",
       "      <td>75.0</td>\n",
       "      <td>1335.0</td>\n",
       "      <td>294646.210320</td>\n",
       "      <td>3.482</td>\n",
       "      <td>4.033</td>\n",
       "      <td>0.550</td>\n",
       "    </tr>\n",
       "    <tr>\n",
       "      <th>1</th>\n",
       "      <td>2018-02</td>\n",
       "      <td>53.0</td>\n",
       "      <td>45.0</td>\n",
       "      <td>49.0</td>\n",
       "      <td>13721.127660</td>\n",
       "      <td>0.122285</td>\n",
       "      <td>383405.906250</td>\n",
       "      <td>64.0</td>\n",
       "      <td>1087.0</td>\n",
       "      <td>295883.910233</td>\n",
       "      <td>3.785</td>\n",
       "      <td>4.330</td>\n",
       "      <td>0.545</td>\n",
       "    </tr>\n",
       "    <tr>\n",
       "      <th>2</th>\n",
       "      <td>2018-03</td>\n",
       "      <td>58.0</td>\n",
       "      <td>43.0</td>\n",
       "      <td>46.0</td>\n",
       "      <td>17894.740573</td>\n",
       "      <td>0.118579</td>\n",
       "      <td>372595.388889</td>\n",
       "      <td>90.0</td>\n",
       "      <td>1419.0</td>\n",
       "      <td>297498.840973</td>\n",
       "      <td>3.910</td>\n",
       "      <td>4.444</td>\n",
       "      <td>0.534</td>\n",
       "    </tr>\n",
       "    <tr>\n",
       "      <th>3</th>\n",
       "      <td>2018-04</td>\n",
       "      <td>61.0</td>\n",
       "      <td>41.0</td>\n",
       "      <td>41.0</td>\n",
       "      <td>18644.291850</td>\n",
       "      <td>0.142316</td>\n",
       "      <td>390282.752688</td>\n",
       "      <td>93.0</td>\n",
       "      <td>1565.0</td>\n",
       "      <td>299255.564948</td>\n",
       "      <td>3.925</td>\n",
       "      <td>4.468</td>\n",
       "      <td>0.543</td>\n",
       "    </tr>\n",
       "    <tr>\n",
       "      <th>4</th>\n",
       "      <td>2018-05</td>\n",
       "      <td>61.0</td>\n",
       "      <td>42.0</td>\n",
       "      <td>33.0</td>\n",
       "      <td>15307.745888</td>\n",
       "      <td>0.163512</td>\n",
       "      <td>409967.413548</td>\n",
       "      <td>93.0</td>\n",
       "      <td>1995.0</td>\n",
       "      <td>301115.602682</td>\n",
       "      <td>4.066</td>\n",
       "      <td>4.586</td>\n",
       "      <td>0.520</td>\n",
       "    </tr>\n",
       "  </tbody>\n",
       "</table>\n",
       "</div>"
      ],
      "text/plain": [
       "      DATE  MarketTempIdx  DaysToClose  DaysOnZillow  ListingPriceCutAmt  \\\n",
       "0  2018-01           52.0         44.0          59.0        14886.916910   \n",
       "1  2018-02           53.0         45.0          49.0        13721.127660   \n",
       "2  2018-03           58.0         43.0          46.0        17894.740573   \n",
       "3  2018-04           61.0         41.0          41.0        18644.291850   \n",
       "4  2018-05           61.0         42.0          33.0        15307.745888   \n",
       "\n",
       "   ListingPriceCutPct  NewConstructMeanSalePrice  NewConstructSalesCount  \\\n",
       "0            0.135527              357332.586667                    75.0   \n",
       "1            0.122285              383405.906250                    64.0   \n",
       "2            0.118579              372595.388889                    90.0   \n",
       "3            0.142316              390282.752688                    93.0   \n",
       "4            0.163512              409967.413548                    93.0   \n",
       "\n",
       "   SalesCount      SalePrice  MORTGAGE15US  MORTGAGE30US  RATE_DIFFERENCE  \n",
       "0      1335.0  294646.210320         3.482         4.033            0.550  \n",
       "1      1087.0  295883.910233         3.785         4.330            0.545  \n",
       "2      1419.0  297498.840973         3.910         4.444            0.534  \n",
       "3      1565.0  299255.564948         3.925         4.468            0.543  \n",
       "4      1995.0  301115.602682         4.066         4.586            0.520  "
      ]
     },
     "execution_count": 18,
     "metadata": {},
     "output_type": "execute_result"
    }
   ],
   "source": [
    "providence_df.head()"
   ]
  },
  {
   "cell_type": "code",
   "execution_count": 19,
   "metadata": {},
   "outputs": [
    {
     "name": "stdout",
     "output_type": "stream",
     "text": [
      "DATE                         0\n",
      "MarketTempIdx                0\n",
      "DaysToClose                  0\n",
      "DaysOnZillow                 0\n",
      "ListingPriceCutAmt           0\n",
      "ListingPriceCutPct           0\n",
      "NewConstructMeanSalePrice    0\n",
      "NewConstructSalesCount       0\n",
      "SalesCount                   0\n",
      "SalePrice                    0\n",
      "MORTGAGE15US                 0\n",
      "MORTGAGE30US                 0\n",
      "RATE_DIFFERENCE              0\n",
      "dtype: int64\n"
     ]
    }
   ],
   "source": [
    "# Check for missing values \n",
    "print(providence_df.isnull().sum())"
   ]
  },
  {
   "cell_type": "code",
   "execution_count": 20,
   "metadata": {},
   "outputs": [
    {
     "name": "stdout",
     "output_type": "stream",
     "text": [
      "<class 'pandas.core.frame.DataFrame'>\n",
      "RangeIndex: 78 entries, 0 to 77\n",
      "Data columns (total 13 columns):\n",
      " #   Column                     Non-Null Count  Dtype  \n",
      "---  ------                     --------------  -----  \n",
      " 0   DATE                       78 non-null     object \n",
      " 1   MarketTempIdx              78 non-null     float64\n",
      " 2   DaysToClose                78 non-null     float64\n",
      " 3   DaysOnZillow               78 non-null     float64\n",
      " 4   ListingPriceCutAmt         78 non-null     float64\n",
      " 5   ListingPriceCutPct         78 non-null     float64\n",
      " 6   NewConstructMeanSalePrice  78 non-null     float64\n",
      " 7   NewConstructSalesCount     78 non-null     float64\n",
      " 8   SalesCount                 78 non-null     float64\n",
      " 9   SalePrice                  78 non-null     float64\n",
      " 10  MORTGAGE15US               78 non-null     float64\n",
      " 11  MORTGAGE30US               78 non-null     float64\n",
      " 12  RATE_DIFFERENCE            78 non-null     float64\n",
      "dtypes: float64(12), object(1)\n",
      "memory usage: 8.1+ KB\n"
     ]
    }
   ],
   "source": [
    "providence_df.info()"
   ]
  },
  {
   "cell_type": "code",
   "execution_count": 21,
   "metadata": {},
   "outputs": [
    {
     "name": "stdout",
     "output_type": "stream",
     "text": [
      "(78, 13) (78, 13) (78, 13) (78, 13) (78, 13) (78, 13)\n"
     ]
    }
   ],
   "source": [
    "# Check the shape of each DataFrame (rows, columns)\n",
    "print(atlanta_df.shape, charlotte_df.shape, cincinnati_df.shape, denver_df.shape, indianapolis_df.shape, providence_df.shape)"
   ]
  },
  {
   "cell_type": "code",
   "execution_count": 22,
   "metadata": {},
   "outputs": [],
   "source": [
    "# Check the length of each DataFrame before concatenation\n",
    "atlanta_len = len(atlanta_df)\n",
    "charlotte_len = len(charlotte_df)\n",
    "cincinnati_len = len(cincinnati_df)\n",
    "denver_len = len(denver_df)\n",
    "indianapolis_len = len(indianapolis_df)\n",
    "providence_len = len(providence_df)"
   ]
  },
  {
   "cell_type": "code",
   "execution_count": 23,
   "metadata": {},
   "outputs": [],
   "source": [
    "# List of DataFrames and concatonating to one\n",
    "df_list = [atlanta_df, charlotte_df, cincinnati_df, denver_df, indianapolis_df, providence_df]\n",
    "combined_df = pd.concat(df_list, ignore_index=True)\n",
    "\n"
   ]
  },
  {
   "cell_type": "code",
   "execution_count": 24,
   "metadata": {},
   "outputs": [
    {
     "name": "stdout",
     "output_type": "stream",
     "text": [
      "['DATE', 'MarketTempIdx', 'DaysToClose', 'DaysOnZillow', 'ListingPriceCutAmt', 'ListingPriceCutPct', 'NewConstructMeanSalePrice', 'NewConstructSalesCount', 'SalesCount', 'SalePrice', 'MORTGAGE15US', 'MORTGAGE30US', 'RATE_DIFFERENCE']\n"
     ]
    }
   ],
   "source": [
    "#Columns to Scale\n",
    "column_names = list(combined_df.columns)\n",
    "print(column_names)\n",
    "features_to_scale = [ 'DaysToClose', 'DaysOnZillow', 'ListingPriceCutAmt', 'ListingPriceCutPct', 'NewConstructMeanSalePrice', 'NewConstructSalesCount', 'SalesCount', 'SalePrice', 'MORTGAGE15US', 'MORTGAGE30US', 'RATE_DIFFERENCE']"
   ]
  },
  {
   "cell_type": "code",
   "execution_count": 40,
   "metadata": {},
   "outputs": [],
   "source": [
    "#Initialize the scaler\n",
    "scaler = StandardScaler()"
   ]
  },
  {
   "cell_type": "code",
   "execution_count": 41,
   "metadata": {},
   "outputs": [],
   "source": [
    "#Scale only the selected features\n",
    "combined_df[features_to_scale] = scaler.fit_transform(combined_df[features_to_scale])"
   ]
  },
  {
   "cell_type": "code",
   "execution_count": 42,
   "metadata": {},
   "outputs": [],
   "source": [
    "# Calculate the correct split indices based on the lengths of each original DataFrame\n",
    "split_indices = [atlanta_len, charlotte_len, cincinnati_len, denver_len, indianapolis_len, providence_len]"
   ]
  },
  {
   "cell_type": "code",
   "execution_count": 43,
   "metadata": {},
   "outputs": [
    {
     "name": "stderr",
     "output_type": "stream",
     "text": [
      "/opt/anaconda3/lib/python3.11/site-packages/numpy/core/fromnumeric.py:59: FutureWarning: 'DataFrame.swapaxes' is deprecated and will be removed in a future version. Please use 'DataFrame.transpose' instead.\n",
      "  return bound(*args, **kwds)\n"
     ]
    }
   ],
   "source": [
    "# Split back into individual DataFrames\n",
    "atlanta_scaled, charlotte_scaled, cincinnati_scaled, denver_scaled, indianapolis_scaled, providence_scaled = \\\n",
    "     np.split(combined_df, np.cumsum(split_indices)[:-1])"
   ]
  },
  {
   "cell_type": "code",
   "execution_count": 44,
   "metadata": {},
   "outputs": [
    {
     "name": "stdout",
     "output_type": "stream",
     "text": [
      "      DATE  MarketTempIdx  DaysToClose  DaysOnZillow  ListingPriceCutAmt  \\\n",
      "0  2018-01           53.0     0.059300      1.017848           -0.564068   \n",
      "1  2018-02           52.0    -0.750984      0.645523           -0.387246   \n",
      "2  2018-03           53.0    -0.548413      0.273198           -0.327851   \n",
      "3  2018-04           56.0    -0.548413     -0.024663           -0.371106   \n",
      "4  2018-05           57.0    -0.345842     -0.099128           -0.398890   \n",
      "\n",
      "   ListingPriceCutPct  NewConstructMeanSalePrice  NewConstructSalesCount  \\\n",
      "0           -0.651066                  -1.380258                2.068336   \n",
      "1           -0.725834                  -1.291298                2.666424   \n",
      "2           -0.485523                  -1.165977                3.644935   \n",
      "3           -0.263401                  -1.172918                2.827221   \n",
      "4            0.202322                  -1.057958                2.846830   \n",
      "\n",
      "   SalesCount  SalePrice  MORTGAGE15US  MORTGAGE30US  RATE_DIFFERENCE  \n",
      "0    0.850983  -0.941509     -0.353913     -0.395200         -0.74982  \n",
      "1    1.203483  -0.924257     -0.147426     -0.198804         -0.79707  \n",
      "2    2.136892  -0.907819     -0.062241     -0.123419         -0.90102  \n",
      "3    2.233369  -0.893997     -0.052019     -0.107549         -0.81597  \n",
      "4    2.788710  -0.880889      0.044069     -0.029520         -1.03332  \n"
     ]
    }
   ],
   "source": [
    "print(atlanta_scaled.head())"
   ]
  },
  {
   "cell_type": "code",
   "execution_count": 45,
   "metadata": {},
   "outputs": [],
   "source": [
    "#Linear Regression for Atlanta\n",
    "from sklearn.linear_model import LinearRegression\n",
    "from sklearn.metrics import mean_squared_error, r2_score"
   ]
  },
  {
   "cell_type": "code",
   "execution_count": 53,
   "metadata": {},
   "outputs": [],
   "source": [
    "#Split Atlanta Data into training and test set\n",
    "X = atlanta_scaled[['DaysToClose', 'DaysOnZillow', 'ListingPriceCutAmt', 'ListingPriceCutPct', 'NewConstructMeanSalePrice', 'NewConstructSalesCount', 'SalesCount', 'MORTGAGE15US', 'MORTGAGE30US', 'RATE_DIFFERENCE']]\n",
    "y = atlanta_scaled['SalePrice']"
   ]
  },
  {
   "cell_type": "code",
   "execution_count": 54,
   "metadata": {},
   "outputs": [],
   "source": [
    "# Splitting the data\n",
    "X_train, X_test, y_train, y_test = train_test_split(X, y, test_size=0.2, random_state=42)"
   ]
  },
  {
   "cell_type": "code",
   "execution_count": 55,
   "metadata": {},
   "outputs": [],
   "source": [
    "# Initialize the Linear Regression model\n",
    "model = LinearRegression()"
   ]
  },
  {
   "cell_type": "code",
   "execution_count": 56,
   "metadata": {},
   "outputs": [
    {
     "data": {
      "text/html": [
       "<style>#sk-container-id-4 {color: black;background-color: white;}#sk-container-id-4 pre{padding: 0;}#sk-container-id-4 div.sk-toggleable {background-color: white;}#sk-container-id-4 label.sk-toggleable__label {cursor: pointer;display: block;width: 100%;margin-bottom: 0;padding: 0.3em;box-sizing: border-box;text-align: center;}#sk-container-id-4 label.sk-toggleable__label-arrow:before {content: \"▸\";float: left;margin-right: 0.25em;color: #696969;}#sk-container-id-4 label.sk-toggleable__label-arrow:hover:before {color: black;}#sk-container-id-4 div.sk-estimator:hover label.sk-toggleable__label-arrow:before {color: black;}#sk-container-id-4 div.sk-toggleable__content {max-height: 0;max-width: 0;overflow: hidden;text-align: left;background-color: #f0f8ff;}#sk-container-id-4 div.sk-toggleable__content pre {margin: 0.2em;color: black;border-radius: 0.25em;background-color: #f0f8ff;}#sk-container-id-4 input.sk-toggleable__control:checked~div.sk-toggleable__content {max-height: 200px;max-width: 100%;overflow: auto;}#sk-container-id-4 input.sk-toggleable__control:checked~label.sk-toggleable__label-arrow:before {content: \"▾\";}#sk-container-id-4 div.sk-estimator input.sk-toggleable__control:checked~label.sk-toggleable__label {background-color: #d4ebff;}#sk-container-id-4 div.sk-label input.sk-toggleable__control:checked~label.sk-toggleable__label {background-color: #d4ebff;}#sk-container-id-4 input.sk-hidden--visually {border: 0;clip: rect(1px 1px 1px 1px);clip: rect(1px, 1px, 1px, 1px);height: 1px;margin: -1px;overflow: hidden;padding: 0;position: absolute;width: 1px;}#sk-container-id-4 div.sk-estimator {font-family: monospace;background-color: #f0f8ff;border: 1px dotted black;border-radius: 0.25em;box-sizing: border-box;margin-bottom: 0.5em;}#sk-container-id-4 div.sk-estimator:hover {background-color: #d4ebff;}#sk-container-id-4 div.sk-parallel-item::after {content: \"\";width: 100%;border-bottom: 1px solid gray;flex-grow: 1;}#sk-container-id-4 div.sk-label:hover label.sk-toggleable__label {background-color: #d4ebff;}#sk-container-id-4 div.sk-serial::before {content: \"\";position: absolute;border-left: 1px solid gray;box-sizing: border-box;top: 0;bottom: 0;left: 50%;z-index: 0;}#sk-container-id-4 div.sk-serial {display: flex;flex-direction: column;align-items: center;background-color: white;padding-right: 0.2em;padding-left: 0.2em;position: relative;}#sk-container-id-4 div.sk-item {position: relative;z-index: 1;}#sk-container-id-4 div.sk-parallel {display: flex;align-items: stretch;justify-content: center;background-color: white;position: relative;}#sk-container-id-4 div.sk-item::before, #sk-container-id-4 div.sk-parallel-item::before {content: \"\";position: absolute;border-left: 1px solid gray;box-sizing: border-box;top: 0;bottom: 0;left: 50%;z-index: -1;}#sk-container-id-4 div.sk-parallel-item {display: flex;flex-direction: column;z-index: 1;position: relative;background-color: white;}#sk-container-id-4 div.sk-parallel-item:first-child::after {align-self: flex-end;width: 50%;}#sk-container-id-4 div.sk-parallel-item:last-child::after {align-self: flex-start;width: 50%;}#sk-container-id-4 div.sk-parallel-item:only-child::after {width: 0;}#sk-container-id-4 div.sk-dashed-wrapped {border: 1px dashed gray;margin: 0 0.4em 0.5em 0.4em;box-sizing: border-box;padding-bottom: 0.4em;background-color: white;}#sk-container-id-4 div.sk-label label {font-family: monospace;font-weight: bold;display: inline-block;line-height: 1.2em;}#sk-container-id-4 div.sk-label-container {text-align: center;}#sk-container-id-4 div.sk-container {/* jupyter's `normalize.less` sets `[hidden] { display: none; }` but bootstrap.min.css set `[hidden] { display: none !important; }` so we also need the `!important` here to be able to override the default hidden behavior on the sphinx rendered scikit-learn.org. See: https://github.com/scikit-learn/scikit-learn/issues/21755 */display: inline-block !important;position: relative;}#sk-container-id-4 div.sk-text-repr-fallback {display: none;}</style><div id=\"sk-container-id-4\" class=\"sk-top-container\"><div class=\"sk-text-repr-fallback\"><pre>LinearRegression()</pre><b>In a Jupyter environment, please rerun this cell to show the HTML representation or trust the notebook. <br />On GitHub, the HTML representation is unable to render, please try loading this page with nbviewer.org.</b></div><div class=\"sk-container\" hidden><div class=\"sk-item\"><div class=\"sk-estimator sk-toggleable\"><input class=\"sk-toggleable__control sk-hidden--visually\" id=\"sk-estimator-id-4\" type=\"checkbox\" checked><label for=\"sk-estimator-id-4\" class=\"sk-toggleable__label sk-toggleable__label-arrow\">LinearRegression</label><div class=\"sk-toggleable__content\"><pre>LinearRegression()</pre></div></div></div></div></div>"
      ],
      "text/plain": [
       "LinearRegression()"
      ]
     },
     "execution_count": 56,
     "metadata": {},
     "output_type": "execute_result"
    }
   ],
   "source": [
    "# Train the model\n",
    "model.fit(X_train, y_train)"
   ]
  },
  {
   "cell_type": "code",
   "execution_count": 57,
   "metadata": {},
   "outputs": [],
   "source": [
    "# Evaluate the model\n",
    "y_pred = model.predict(X_test)"
   ]
  },
  {
   "cell_type": "code",
   "execution_count": 58,
   "metadata": {},
   "outputs": [
    {
     "name": "stdout",
     "output_type": "stream",
     "text": [
      "Mean Squared Error: 0.0035402252374275877\n",
      "R-Squared Score: 0.9890069659953049\n"
     ]
    }
   ],
   "source": [
    "# Calculate evaluation metrics\n",
    "mse = mean_squared_error(y_test, y_pred)\n",
    "r2 = r2_score(y_test, y_pred)\n",
    "\n",
    "print(f\"Mean Squared Error: {mse}\")\n",
    "print(f\"R-Squared Score: {r2}\")"
   ]
  },
  {
   "cell_type": "code",
   "execution_count": 59,
   "metadata": {},
   "outputs": [
    {
     "data": {
      "text/plain": [
       "array([-0.64702596, -0.94010771, -0.432487  , -0.81353855, -0.71774873,\n",
       "        0.57155019, -0.6555116 , -0.86476607,  0.15598979,  0.40218696,\n",
       "        0.52513022, -0.70256762,  0.44397958,  0.47712501, -0.76494281,\n",
       "       -0.14076345])"
      ]
     },
     "execution_count": 59,
     "metadata": {},
     "output_type": "execute_result"
    }
   ],
   "source": [
    "y_pred"
   ]
  },
  {
   "cell_type": "code",
   "execution_count": null,
   "metadata": {},
   "outputs": [],
   "source": [
    "#Split Data into training and test set\n",
    "X = atlanta_df[['DaysToClose', 'DaysOnZillow', 'ListingPriceCutAmt', 'ListingPriceCutPct', 'NewConstructMeanSalePrice', 'NewConstructSalesCount', 'SalesCount', 'MORTGAGE15US', 'MORTGAGE30US', 'RATE_DIFFERENCE']]\n",
    "y = atlanta_df['SalePrice']"
   ]
  },
  {
   "cell_type": "code",
   "execution_count": null,
   "metadata": {},
   "outputs": [],
   "source": [
    "# Splitting the data\n",
    "X_train, X_test, y_train, y_test = train_test_split(X, y, test_size=0.2, random_state=42)"
   ]
  },
  {
   "cell_type": "code",
   "execution_count": null,
   "metadata": {},
   "outputs": [],
   "source": [
    "#Split Data into training and test set\n",
    "X = atlanta_df[['DaysToClose', 'DaysOnZillow', 'ListingPriceCutAmt', 'ListingPriceCutPct', 'NewConstructMeanSalePrice', 'NewConstructSalesCount', 'SalesCount', 'MORTGAGE15US', 'MORTGAGE30US', 'RATE_DIFFERENCE']]\n",
    "y = atlanta_df['SalePrice']"
   ]
  },
  {
   "cell_type": "code",
   "execution_count": null,
   "metadata": {},
   "outputs": [],
   "source": [
    "# Splitting the data\n",
    "X_train, X_test, y_train, y_test = train_test_split(X, y, test_size=0.2, random_state=42)"
   ]
  },
  {
   "cell_type": "code",
   "execution_count": null,
   "metadata": {},
   "outputs": [],
   "source": [
    "#Split Data into training and test set\n",
    "X = atlanta_df[['DaysToClose', 'DaysOnZillow', 'ListingPriceCutAmt', 'ListingPriceCutPct', 'NewConstructMeanSalePrice', 'NewConstructSalesCount', 'SalesCount', 'MORTGAGE15US', 'MORTGAGE30US', 'RATE_DIFFERENCE']]\n",
    "y = atlanta_df['SalePrice']"
   ]
  },
  {
   "cell_type": "code",
   "execution_count": null,
   "metadata": {},
   "outputs": [],
   "source": [
    "# Splitting the data\n",
    "X_train, X_test, y_train, y_test = train_test_split(X, y, test_size=0.2, random_state=42)"
   ]
  },
  {
   "cell_type": "code",
   "execution_count": null,
   "metadata": {},
   "outputs": [],
   "source": [
    "#Split Data into training and test set\n",
    "X = atlanta_df[['DaysToClose', 'DaysOnZillow', 'ListingPriceCutAmt', 'ListingPriceCutPct', 'NewConstructMeanSalePrice', 'NewConstructSalesCount', 'SalesCount', 'MORTGAGE15US', 'MORTGAGE30US', 'RATE_DIFFERENCE']]\n",
    "y = atlanta_df['SalePrice']"
   ]
  },
  {
   "cell_type": "code",
   "execution_count": null,
   "metadata": {},
   "outputs": [],
   "source": [
    "# Splitting the data\n",
    "X_train, X_test, y_train, y_test = train_test_split(X, y, test_size=0.2, random_state=42)"
   ]
  },
  {
   "cell_type": "code",
   "execution_count": null,
   "metadata": {},
   "outputs": [],
   "source": [
    "#Split Data into training and test set\n",
    "X = atlanta_df[['DaysToClose', 'DaysOnZillow', 'ListingPriceCutAmt', 'ListingPriceCutPct', 'NewConstructMeanSalePrice', 'NewConstructSalesCount', 'SalesCount', 'MORTGAGE15US', 'MORTGAGE30US', 'RATE_DIFFERENCE']]\n",
    "y = atlanta_df['SalePrice']"
   ]
  },
  {
   "cell_type": "code",
   "execution_count": null,
   "metadata": {},
   "outputs": [],
   "source": [
    "# Splitting the data\n",
    "X_train, X_test, y_train, y_test = train_test_split(X, y, test_size=0.2, random_state=42)"
   ]
  },
  {
   "cell_type": "code",
   "execution_count": 36,
   "metadata": {},
   "outputs": [],
   "source": [
    "# Initialize the Linear Regression model\n",
    "model = LinearRegression()"
   ]
  },
  {
   "cell_type": "code",
   "execution_count": 37,
   "metadata": {},
   "outputs": [
    {
     "data": {
      "text/html": [
       "<style>#sk-container-id-2 {color: black;background-color: white;}#sk-container-id-2 pre{padding: 0;}#sk-container-id-2 div.sk-toggleable {background-color: white;}#sk-container-id-2 label.sk-toggleable__label {cursor: pointer;display: block;width: 100%;margin-bottom: 0;padding: 0.3em;box-sizing: border-box;text-align: center;}#sk-container-id-2 label.sk-toggleable__label-arrow:before {content: \"▸\";float: left;margin-right: 0.25em;color: #696969;}#sk-container-id-2 label.sk-toggleable__label-arrow:hover:before {color: black;}#sk-container-id-2 div.sk-estimator:hover label.sk-toggleable__label-arrow:before {color: black;}#sk-container-id-2 div.sk-toggleable__content {max-height: 0;max-width: 0;overflow: hidden;text-align: left;background-color: #f0f8ff;}#sk-container-id-2 div.sk-toggleable__content pre {margin: 0.2em;color: black;border-radius: 0.25em;background-color: #f0f8ff;}#sk-container-id-2 input.sk-toggleable__control:checked~div.sk-toggleable__content {max-height: 200px;max-width: 100%;overflow: auto;}#sk-container-id-2 input.sk-toggleable__control:checked~label.sk-toggleable__label-arrow:before {content: \"▾\";}#sk-container-id-2 div.sk-estimator input.sk-toggleable__control:checked~label.sk-toggleable__label {background-color: #d4ebff;}#sk-container-id-2 div.sk-label input.sk-toggleable__control:checked~label.sk-toggleable__label {background-color: #d4ebff;}#sk-container-id-2 input.sk-hidden--visually {border: 0;clip: rect(1px 1px 1px 1px);clip: rect(1px, 1px, 1px, 1px);height: 1px;margin: -1px;overflow: hidden;padding: 0;position: absolute;width: 1px;}#sk-container-id-2 div.sk-estimator {font-family: monospace;background-color: #f0f8ff;border: 1px dotted black;border-radius: 0.25em;box-sizing: border-box;margin-bottom: 0.5em;}#sk-container-id-2 div.sk-estimator:hover {background-color: #d4ebff;}#sk-container-id-2 div.sk-parallel-item::after {content: \"\";width: 100%;border-bottom: 1px solid gray;flex-grow: 1;}#sk-container-id-2 div.sk-label:hover label.sk-toggleable__label {background-color: #d4ebff;}#sk-container-id-2 div.sk-serial::before {content: \"\";position: absolute;border-left: 1px solid gray;box-sizing: border-box;top: 0;bottom: 0;left: 50%;z-index: 0;}#sk-container-id-2 div.sk-serial {display: flex;flex-direction: column;align-items: center;background-color: white;padding-right: 0.2em;padding-left: 0.2em;position: relative;}#sk-container-id-2 div.sk-item {position: relative;z-index: 1;}#sk-container-id-2 div.sk-parallel {display: flex;align-items: stretch;justify-content: center;background-color: white;position: relative;}#sk-container-id-2 div.sk-item::before, #sk-container-id-2 div.sk-parallel-item::before {content: \"\";position: absolute;border-left: 1px solid gray;box-sizing: border-box;top: 0;bottom: 0;left: 50%;z-index: -1;}#sk-container-id-2 div.sk-parallel-item {display: flex;flex-direction: column;z-index: 1;position: relative;background-color: white;}#sk-container-id-2 div.sk-parallel-item:first-child::after {align-self: flex-end;width: 50%;}#sk-container-id-2 div.sk-parallel-item:last-child::after {align-self: flex-start;width: 50%;}#sk-container-id-2 div.sk-parallel-item:only-child::after {width: 0;}#sk-container-id-2 div.sk-dashed-wrapped {border: 1px dashed gray;margin: 0 0.4em 0.5em 0.4em;box-sizing: border-box;padding-bottom: 0.4em;background-color: white;}#sk-container-id-2 div.sk-label label {font-family: monospace;font-weight: bold;display: inline-block;line-height: 1.2em;}#sk-container-id-2 div.sk-label-container {text-align: center;}#sk-container-id-2 div.sk-container {/* jupyter's `normalize.less` sets `[hidden] { display: none; }` but bootstrap.min.css set `[hidden] { display: none !important; }` so we also need the `!important` here to be able to override the default hidden behavior on the sphinx rendered scikit-learn.org. See: https://github.com/scikit-learn/scikit-learn/issues/21755 */display: inline-block !important;position: relative;}#sk-container-id-2 div.sk-text-repr-fallback {display: none;}</style><div id=\"sk-container-id-2\" class=\"sk-top-container\"><div class=\"sk-text-repr-fallback\"><pre>LinearRegression()</pre><b>In a Jupyter environment, please rerun this cell to show the HTML representation or trust the notebook. <br />On GitHub, the HTML representation is unable to render, please try loading this page with nbviewer.org.</b></div><div class=\"sk-container\" hidden><div class=\"sk-item\"><div class=\"sk-estimator sk-toggleable\"><input class=\"sk-toggleable__control sk-hidden--visually\" id=\"sk-estimator-id-2\" type=\"checkbox\" checked><label for=\"sk-estimator-id-2\" class=\"sk-toggleable__label sk-toggleable__label-arrow\">LinearRegression</label><div class=\"sk-toggleable__content\"><pre>LinearRegression()</pre></div></div></div></div></div>"
      ],
      "text/plain": [
       "LinearRegression()"
      ]
     },
     "execution_count": 37,
     "metadata": {},
     "output_type": "execute_result"
    }
   ],
   "source": [
    "# Train the model\n",
    "model.fit(X_train, y_train)"
   ]
  },
  {
   "cell_type": "code",
   "execution_count": 38,
   "metadata": {},
   "outputs": [],
   "source": [
    "# Evaluate the model\n",
    "y_pred = model.predict(X_test)"
   ]
  },
  {
   "cell_type": "code",
   "execution_count": 60,
   "metadata": {},
   "outputs": [
    {
     "name": "stdout",
     "output_type": "stream",
     "text": [
      "Mean Squared Error: 0.0035402252374275877\n",
      "R-Squared Score: 0.9890069659953049\n"
     ]
    }
   ],
   "source": [
    "# Calculate evaluation metrics\n",
    "linear_mse = mean_squared_error(y_test, y_pred)\n",
    "linear_r2 = r2_score(y_test, y_pred)\n",
    "\n",
    "print(f\"Mean Squared Error: {linear_mse}\")\n",
    "print(f\"R-Squared Score: {linear_r2}\")"
   ]
  }
 ],
 "metadata": {
  "kernelspec": {
   "display_name": "base",
   "language": "python",
   "name": "python3"
  },
  "language_info": {
   "codemirror_mode": {
    "name": "ipython",
    "version": 3
   },
   "file_extension": ".py",
   "mimetype": "text/x-python",
   "name": "python",
   "nbconvert_exporter": "python",
   "pygments_lexer": "ipython3",
   "version": "3.11.7"
  }
 },
 "nbformat": 4,
 "nbformat_minor": 2
}
