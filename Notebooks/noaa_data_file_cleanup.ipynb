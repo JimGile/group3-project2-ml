{
 "cells": [
  {
   "cell_type": "code",
   "execution_count": 21,
   "metadata": {},
   "outputs": [],
   "source": [
    "import pandas as pd"
   ]
  },
  {
   "cell_type": "markdown",
   "metadata": {},
   "source": [
    "# Clean up all of the garbage NOAA downloaded data files"
   ]
  },
  {
   "cell_type": "code",
   "execution_count": 22,
   "metadata": {},
   "outputs": [],
   "source": [
    "dat_file_dict = {\n",
    "    'hghtmp20.dat': 'city_rec_temp_high.csv',\n",
    "    'lowtmp20.dat': 'city_rec_temp_low.csv',\n",
    "    'mnls3220.dat': 'city_avg_days_temp_less_than_32.csv',\n",
    "    'mxge9020.dat': 'city_avg_days_temp_greater_than_90.csv',\n",
    "    'avgsnf20.dat': 'city_avg_snowfall.csv',\n",
    "    'relhum20.dat': 'city_avg_rel_humidity.csv',\n",
    "    'wndspd20.dat': 'city_avg_wind_speed.csv',\n",
    "    'clpcdy20.dat': 'city_avg_days_clear_cloudy.csv',\n",
    "    'prge0120.dat': 'city_avg_days_precip_greater_than_01.csv',\n",
    "    'pctpos20.dat': 'city_avg_pct_days_sunshine.csv',\n",
    "    'Normal Daily Minimum Temperature.dat': 'city_norm_temp_min.csv',\n",
    "}"
   ]
  },
  {
   "cell_type": "code",
   "execution_count": 23,
   "metadata": {},
   "outputs": [],
   "source": [
    "# Read the fixed-width file and save as CSV\n",
    "for dat_file, csv_file in dat_file_dict.items():\n",
    "    path = '../Data/NOAA/edited/' + dat_file\n",
    "    df = pd.read_fwf(path, colspecs='infer')\n",
    "    df['ID'] = df['TEMP'].str[:5]\n",
    "    df['CITY'] = df['TEMP'].str[5:]\n",
    "    df['CITY'] = df['CITY'].str.split(',').str[0]\n",
    "    df['STATE'] = df['TEMP'].str.split(',').str[1]\n",
    "    df = df.drop(columns=['TEMP'])\n",
    "    df.to_csv(f'../Data/NOAA/clean/{csv_file}', index=False)\n"
   ]
  },
  {
   "cell_type": "code",
   "execution_count": 24,
   "metadata": {},
   "outputs": [],
   "source": [
    "txt_file_dict = {\n",
    "    'Normal Cooling Degree Days .txt': 'city_norm_days_cooling.csv',\n",
    "    'Normal Heating Degree Days.txt': 'city_norm_days_heating.csv',\n",
    "    'Normal Daily Maximum Temperature.txt': 'city_norm_temp_max.csv',\n",
    "    'Normal Daily Mean Temperature.txt': 'city_norm_temp_avg.csv',\n",
    "    'Normal Precipitation.txt': 'city_norm_precip.csv'\n",
    "}"
   ]
  },
  {
   "cell_type": "code",
   "execution_count": 25,
   "metadata": {},
   "outputs": [],
   "source": [
    "# Read the txt file and save as CSV\n",
    "for txt_file, csv_file in txt_file_dict.items():\n",
    "    path = '../Data/NOAA/edited/' + txt_file\n",
    "    df = pd.read_csv(path)\n",
    "    col_mapper = {}\n",
    "    orig_cols = df.columns\n",
    "    for col in orig_cols:\n",
    "        col_mapper[col] = col.strip()\n",
    "    df = df.rename(columns=col_mapper)\n",
    "    df['STATE_YRS'] = df['STATE']\n",
    "    df['STATE'] = df['STATE_YRS'].apply(lambda x: x.strip().split(' ')[0])\n",
    "    df['YRS'] = df['STATE_YRS'].apply(lambda x: x.strip().split(' ')[-1])\n",
    "    df['YRS'] = df['YRS'].astype(int)\n",
    "    df = df.drop(columns=['STATE_YRS'])\n",
    "    df.to_csv(f'../Data/NOAA/clean/{csv_file}', index=False)\n"
   ]
  }
 ],
 "metadata": {
  "kernelspec": {
   "display_name": "base",
   "language": "python",
   "name": "python3"
  },
  "language_info": {
   "codemirror_mode": {
    "name": "ipython",
    "version": 3
   },
   "file_extension": ".py",
   "mimetype": "text/x-python",
   "name": "python",
   "nbconvert_exporter": "python",
   "pygments_lexer": "ipython3",
   "version": "3.11.9"
  }
 },
 "nbformat": 4,
 "nbformat_minor": 2
}
