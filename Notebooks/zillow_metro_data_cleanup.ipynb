{
 "cells": [
  {
   "cell_type": "code",
   "execution_count": 1,
   "metadata": {},
   "outputs": [],
   "source": [
    "import pandas as pd"
   ]
  },
  {
   "cell_type": "code",
   "execution_count": 2,
   "metadata": {},
   "outputs": [],
   "source": [
    "csv_file_names_dict = {\n",
    "    'Metro_market_temp_index_uc_sfrcondo_month.csv': 'city_market_temp_index_month.csv',\n",
    "    'Metro_mean_days_to_close_uc_sfrcondo_month.csv': 'city_mean_days_to_close_month.csv',\n",
    "    'Metro_mean_doz_pending_uc_sfrcondo_month.csv': 'city_mean_doz_pending_month.csv',\n",
    "    'Metro_mean_listings_price_cut_amt_uc_sfrcondo_month.csv': 'city_mean_listings_price_cut_amt_month.csv',\n",
    "    'Metro_perc_listings_price_cut_uc_sfrcondo_month.csv': 'city_perc_listings_price_cut_month.csv',\n",
    "    'Metro_new_con_mean_sale_price_uc_sfrcondo_month.csv': 'city_new_con_mean_sale_price_month.csv',\n",
    "    'Metro_new_con_sales_count_raw_uc_sfrcondo_month.csv': 'city_new_con_sales_count_raw_month.csv',\n",
    "    'Metro_sales_count_now_uc_sfrcondo_month.csv': 'city_sales_count_now_month.csv',\n",
    "}"
   ]
  },
  {
   "cell_type": "code",
   "execution_count": 3,
   "metadata": {},
   "outputs": [],
   "source": [
    "base_read_path = '../Data/Zillow/'\n",
    "base_write_path = '../Data/Zillow/clean/'\n",
    "cols_to_drop = ['RegionName', 'SizeRank', 'RegionType']"
   ]
  },
  {
   "cell_type": "code",
   "execution_count": 4,
   "metadata": {},
   "outputs": [],
   "source": [
    "for csv_file_name, new_file_name in csv_file_names_dict.items():\n",
    "    path = base_read_path + csv_file_name\n",
    "    df = pd.read_csv(path)\n",
    "    df = df.copy()[1:]\n",
    "    df['CityName'] = df['RegionName'].str.split(',').str[0]\n",
    "    df = df.drop(columns=cols_to_drop)\n",
    "    column_mapping = {col: col[:7] for col in df.columns if col.find('-') > 0}\n",
    "    df = df.rename(columns=column_mapping)\n",
    "    new_col_order = ['RegionID', 'CityName', 'StateName'] + list(column_mapping.values())\n",
    "    df = df[new_col_order]\n",
    "    df['CityName'] = df['CityName'].apply(lambda x: x.upper())\n",
    "    df.to_csv(base_write_path + new_file_name, index=False)"
   ]
  }
 ],
 "metadata": {
  "kernelspec": {
   "display_name": "base",
   "language": "python",
   "name": "python3"
  },
  "language_info": {
   "codemirror_mode": {
    "name": "ipython",
    "version": 3
   },
   "file_extension": ".py",
   "mimetype": "text/x-python",
   "name": "python",
   "nbconvert_exporter": "python",
   "pygments_lexer": "ipython3",
   "version": "3.11.9"
  }
 },
 "nbformat": 4,
 "nbformat_minor": 2
}
