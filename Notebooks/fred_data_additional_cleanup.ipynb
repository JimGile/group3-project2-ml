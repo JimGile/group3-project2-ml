{
 "cells": [
  {
   "cell_type": "code",
   "execution_count": 1,
   "metadata": {},
   "outputs": [],
   "source": [
    "import pandas as pd"
   ]
  },
  {
   "cell_type": "code",
   "execution_count": 2,
   "metadata": {},
   "outputs": [],
   "source": [
    "csv_file_names_dict = {\n",
    "    'cleaned_mortgage_data_with_date.csv': 'clean_mortgage_data_month.csv',\n",
    "}"
   ]
  },
  {
   "cell_type": "code",
   "execution_count": 3,
   "metadata": {},
   "outputs": [],
   "source": [
    "base_read_path = '../Data/FRED/'\n",
    "base_write_path = '../Data/FRED/'\n"
   ]
  },
  {
   "cell_type": "code",
   "execution_count": 10,
   "metadata": {},
   "outputs": [],
   "source": [
    "for csv_file_name, new_file_name in csv_file_names_dict.items():\n",
    "    path = base_read_path + csv_file_name\n",
    "    df = pd.read_csv(path)\n",
    "    df['DATE'] = df['DATE'].apply(lambda x: x[0:7])\n",
    "    df['MORTGAGE15US'] = df['MORTGAGE15US'].apply(lambda x: round(x, 3))\n",
    "    df['MORTGAGE30US'] = df['MORTGAGE30US'].apply(lambda x: round(x, 3))\n",
    "    df['RATE_DIFFERENCE'] = df['RATE_DIFFERENCE'].apply(lambda x: round(x, 3))\n",
    "    df.to_csv(base_write_path + new_file_name, index=False)\n"
   ]
  }
 ],
 "metadata": {
  "kernelspec": {
   "display_name": "base",
   "language": "python",
   "name": "python3"
  },
  "language_info": {
   "codemirror_mode": {
    "name": "ipython",
    "version": 3
   },
   "file_extension": ".py",
   "mimetype": "text/x-python",
   "name": "python",
   "nbconvert_exporter": "python",
   "pygments_lexer": "ipython3",
   "version": "3.11.9"
  }
 },
 "nbformat": 4,
 "nbformat_minor": 2
}
