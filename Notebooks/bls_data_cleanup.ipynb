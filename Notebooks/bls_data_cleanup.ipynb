{
 "cells": [
  {
   "cell_type": "code",
   "execution_count": 10,
   "metadata": {},
   "outputs": [],
   "source": [
    "import pandas as pd"
   ]
  },
  {
   "cell_type": "code",
   "execution_count": 11,
   "metadata": {},
   "outputs": [],
   "source": [
    "base_write_path = '../Data/BLS/clean/'\n",
    "file_prefix = '../Data/BLS/'\n",
    "file_suffix_emp = '_AllEmp.xlsx'\n",
    "file_suffix_pct = '_PctChg.xlsx'\n",
    "city_names = ['Denver', 'Charlotte', 'Cincinnati', 'Providence', 'Tampa', 'Atlanta', 'Indianapolis']\n",
    "month_abreviation_to_number = {'Jan': '01-31', 'Feb': '02-28', 'Mar': '03-31', 'Apr': '04-30', 'May': '05-31', 'Jun': '06-30', 'Jul': '07-31', 'Aug': '08-31', 'Sep': '09-30', 'Oct': '10-31', 'Nov': '11-30', 'Dec': '12-31'}\n"
   ]
  },
  {
   "cell_type": "code",
   "execution_count": 12,
   "metadata": {},
   "outputs": [],
   "source": [
    "# Convert columns to dates\n",
    "for city_name in city_names:\n",
    "    df_emp = pd.read_excel(file_prefix + city_name + file_suffix_emp)\n",
    "    df_pct = pd.read_excel(file_prefix + city_name + file_suffix_pct)\n",
    "    df_emp['Year'] = df_emp['Year'].astype(str)\n",
    "    \n",
    "    new_data_dict = {\n",
    "        'CITY_NAME': [],\n",
    "        'DATE': [],\n",
    "        'NUM_JOBS': [],\n",
    "        'GROWTH_PCT': []\n",
    "    }\n",
    "    for i in range(len(df_emp)):\n",
    "        for month_abrv, number in month_abreviation_to_number.items():\n",
    "            new_data_dict['CITY_NAME'].append(city_name.upper())\n",
    "            new_data_dict['DATE'].append(f'{df_emp.iloc[i][\"Year\"]}-{number}')\n",
    "            new_data_dict['NUM_JOBS'].append(df_emp.iloc[i][month_abrv])\n",
    "            new_data_dict['GROWTH_PCT'].append(df_pct.iloc[i][month_abrv])\n",
    "\n",
    "    new_data_df = pd.DataFrame(new_data_dict)\n",
    "    new_data_df.to_csv(f'{base_write_path}{city_name.upper()}_emp.csv', index=False)\n"
   ]
  }
 ],
 "metadata": {
  "kernelspec": {
   "display_name": "base",
   "language": "python",
   "name": "python3"
  },
  "language_info": {
   "codemirror_mode": {
    "name": "ipython",
    "version": 3
   },
   "file_extension": ".py",
   "mimetype": "text/x-python",
   "name": "python",
   "nbconvert_exporter": "python",
   "pygments_lexer": "ipython3",
   "version": "3.11.9"
  }
 },
 "nbformat": 4,
 "nbformat_minor": 2
}
