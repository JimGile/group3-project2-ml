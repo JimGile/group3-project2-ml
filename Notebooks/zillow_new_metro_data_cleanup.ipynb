{
 "cells": [
  {
   "cell_type": "code",
   "execution_count": 1,
   "metadata": {},
   "outputs": [],
   "source": [
    "import pandas as pd"
   ]
  },
  {
   "cell_type": "code",
   "execution_count": 2,
   "metadata": {},
   "outputs": [],
   "source": [
    "\n",
    "def process_zillow_csv(read_path, write_path, csv_file_names_dict, cols_to_drop):\n",
    "    for csv_file_name, new_file_name in csv_file_names_dict.items():\n",
    "        path = read_path + csv_file_name\n",
    "        df = pd.read_csv(path)\n",
    "        # Drop first row\n",
    "        df = df.copy()[1:]\n",
    "        df = df.drop(columns=cols_to_drop)\n",
    "        df['RegionName'] = df['RegionName'].apply(lambda x: x.upper())\n",
    "        df.to_csv(write_path + new_file_name, index=False)"
   ]
  },
  {
   "cell_type": "code",
   "execution_count": 3,
   "metadata": {},
   "outputs": [],
   "source": [
    "base_write_path = '../Data/Zillow/new_metro/clean/'\n",
    "cols_to_drop = ['RegionID', 'SizeRank', 'RegionType', 'StateName']"
   ]
  },
  {
   "cell_type": "code",
   "execution_count": 4,
   "metadata": {},
   "outputs": [],
   "source": [
    "read_path_2008 = '../Data/Zillow/new_metro/2008/'\n",
    "csv_file_names_2008_dict = {\n",
    "    'Metro_mean_sale_price_uc_sfrcondo_sm_month.csv': 'city_mean_sale_price_iso.csv',\n",
    "    'Metro_sales_count_now_uc_sfrcondo_month.csv': 'city_sales_count_iso.csv',\n",
    "    'Metro_total_transaction_value_uc_sfrcondo_sm_month.csv': 'city_total_transaction_value_iso.csv',\n",
    "    'Metro_zhvi_uc_sfrcondo_tier_0.33_0.67_month.csv': 'city_home_value_idx_iso.csv',\n",
    "    'Metro_zhvi_uc_sfrcondo_tier_0.33_0.67_sm_sa_month.csv': 'city_home_value_idx_sm_sa_iso.csv',\n",
    "}\n",
    "process_zillow_csv(read_path_2008, base_write_path, csv_file_names_2008_dict, cols_to_drop)"
   ]
  },
  {
   "cell_type": "code",
   "execution_count": 5,
   "metadata": {},
   "outputs": [],
   "source": [
    "read_path_2018 = '../Data/Zillow/new_metro/2018/'\n",
    "csv_file_names_2018_dict = {\n",
    "    'Metro_market_temp_index_uc_sfrcondo_month.csv': 'city_market_temp_index_iso.csv',\n",
    "    'Metro_mean_days_to_close_uc_sfrcondo_month.csv': 'city_mean_days_to_close_iso.csv',\n",
    "    'Metro_mean_doz_pending_uc_sfrcondo_sm_month.csv': 'city_mean_doz_pending_iso.csv',\n",
    "    'Metro_mean_listings_price_cut_amt_uc_sfrcondo_sm_month.csv': 'city_mean_listings_price_cut_amt_iso.csv',\n",
    "    'Metro_mean_listings_price_cut_pct_uc_sfrcondo_sm_month.csv': 'city_mean_listings_price_cut_pct_iso.csv',\n",
    "    'Metro_mean_sale_to_list_uc_sfrcondo_sm_month.csv': 'city_mean_sale_to_list_iso.csv',\n",
    "    'Metro_pct_listings_price_cut_uc_sfrcondo_sm_month.csv': 'city_pct_listings_price_cut_iso.csv',\n",
    "    'Metro_pct_sold_above_list_uc_sfrcondo_sm_month.csv': 'city_pct_sold_above_list_iso.csv',\n",
    "    'Metro_pct_sold_below_list_uc_sfrcondo_sm_month.csv': 'city_pct_sold_below_list_iso.csv',\n",
    "    'Metro_new_con_mean_sale_price_uc_sfrcondo_month.csv': 'city_new_con_mean_sale_price_iso.csv',\n",
    "    'Metro_new_con_sales_count_raw_uc_sfrcondo_month.csv': 'city_new_con_sales_count_iso.csv',\n",
    "}\n",
    "process_zillow_csv(read_path_2018, base_write_path, csv_file_names_2018_dict, cols_to_drop)"
   ]
  },
  {
   "cell_type": "code",
   "execution_count": 6,
   "metadata": {},
   "outputs": [],
   "source": [
    "read_path_2024 = '../Data/Zillow/new_metro/2024_Target/'\n",
    "cols_to_drop_2024 = ['RegionID', 'SizeRank', 'RegionType', 'StateName', 'BaseDate']\n",
    "csv_file_names_2024_dict = {\n",
    "    'Metro_zhvf_growth_uc_sfrcondo_tier_0.33_0.67_month.csv': 'city_home_value_forecast_pct_iso.csv',\n",
    "    'Metro_zhvf_growth_uc_sfrcondo_tier_0.33_0.67_sm_sa_month.csv': 'city_home_value_forecast_pct_sm_sa_iso.csv',\n",
    "}\n",
    "process_zillow_csv(read_path_2024, base_write_path, csv_file_names_2024_dict, cols_to_drop_2024)"
   ]
  }
 ],
 "metadata": {
  "kernelspec": {
   "display_name": "base",
   "language": "python",
   "name": "python3"
  },
  "language_info": {
   "codemirror_mode": {
    "name": "ipython",
    "version": 3
   },
   "file_extension": ".py",
   "mimetype": "text/x-python",
   "name": "python",
   "nbconvert_exporter": "python",
   "pygments_lexer": "ipython3",
   "version": "3.11.9"
  }
 },
 "nbformat": 4,
 "nbformat_minor": 2
}
