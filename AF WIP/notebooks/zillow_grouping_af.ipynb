{
 "cells": [
  {
   "cell_type": "code",
   "execution_count": 1,
   "metadata": {},
   "outputs": [],
   "source": [
    "import pandas as pd"
   ]
  },
  {
   "cell_type": "code",
   "execution_count": 2,
   "metadata": {},
   "outputs": [],
   "source": [
    "city_market_temp = pd.read_csv('../data/clean/city_market_temp_index_month.csv')\n",
    "city_mean_days_to_close = pd.read_csv('../data/clean/city_mean_days_to_close_month.csv')\n",
    "city_mean_doz = pd.read_csv('../data/clean/city_mean_doz_pending_month.csv')\n",
    "city_mean_listings_price_cut = pd.read_csv('../data/clean/city_mean_listings_price_cut_amt_month.csv')\n",
    "city_perc_listings_price_cut = pd.read_csv('../data/clean/city_perc_listings_price_cut_month.csv')\n",
    "city_new_construct_mean = pd.read_csv('../data/clean/city_new_con_mean_sale_price_month.csv')\n",
    "city_sales_count = pd.read_csv('../data/clean/city_sales_count_now_month.csv')\n",
    "sale_price_city = pd.read_csv('../data/Sale_Prices_City.csv')\n"
   ]
  },
  {
   "cell_type": "code",
   "execution_count": null,
   "metadata": {},
   "outputs": [],
   "source": [
    "zillow_combine_df = S"
   ]
  }
 ],
 "metadata": {
  "kernelspec": {
   "display_name": "base",
   "language": "python",
   "name": "python3"
  },
  "language_info": {
   "codemirror_mode": {
    "name": "ipython",
    "version": 3
   },
   "file_extension": ".py",
   "mimetype": "text/x-python",
   "name": "python",
   "nbconvert_exporter": "python",
   "pygments_lexer": "ipython3",
   "version": "3.11.7"
  }
 },
 "nbformat": 4,
 "nbformat_minor": 2
}
