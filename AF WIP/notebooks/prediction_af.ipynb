{
 "cells": [
  {
   "cell_type": "code",
   "execution_count": null,
   "metadata": {},
   "outputs": [],
   "source": [
    "# Imports\n",
    "import pandas as pd\n",
    "import numpy as np\n",
    "import matplotlib.pyplot as plt\n",
    "from sklearn.base import RegressorMixin, TransformerMixin\n",
    "from sklearn.preprocessing import PowerTransformer, QuantileTransformer, StandardScaler\n",
    "from sklearn.linear_model import Ridge, RidgeCV, Lasso, LassoCV, LinearRegression, ElasticNet, ElasticNetCV\n",
    "\n",
    "from sklearn.compose import ColumnTransformer\n",
    "from sklearn.ensemble import HistGradientBoostingRegressor\n",
    "from sklearn.model_selection import cross_validate, KFold\n",
    "from sklearn.pipeline import make_pipeline\n",
    "from sklearn.model_selection import TimeSeriesSplit"
   ]
  },
  {
   "cell_type": "code",
   "execution_count": null,
   "metadata": {},
   "outputs": [],
   "source": [
    "# cleaned up cities files, consolidated with resulting column names\n",
    "base_read_path = '../../Data/Zillow/clean/'\n",
    "select_cities_dict: dict[str, str] = {\n",
    "    'Atlanta.csv': 'Atlanta GA',\n",
    "    'Charlotte' : 'Charlotte NC',\n",
    "    'Cincinnati' : 'Cincinnati OH',\n",
    "    'Denver' : 'Denver CO',\n",
    "    'Indianapolis' : \"Indianapolis IN\",\n",
    "    'Providence' : 'Providence RI'\n",
    "}"
   ]
  }
 ],
 "metadata": {
  "language_info": {
   "name": "python"
  }
 },
 "nbformat": 4,
 "nbformat_minor": 2
}
