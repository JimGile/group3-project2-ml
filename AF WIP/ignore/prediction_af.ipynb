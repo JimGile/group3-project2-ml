{
 "cells": [
  {
   "cell_type": "code",
   "execution_count": 1,
   "metadata": {},
   "outputs": [],
   "source": [
    "# Imports\n",
    "import pandas as pd\n",
    "import numpy as np\n",
    "import matplotlib.pyplot as plt\n",
    "from sklearn.base import RegressorMixin, TransformerMixin\n",
    "from sklearn.preprocessing import PowerTransformer, QuantileTransformer, StandardScaler\n",
    "from sklearn.linear_model import Ridge, RidgeCV, Lasso, LassoCV, LinearRegression, ElasticNet, ElasticNetCV\n",
    "\n",
    "from sklearn.compose import ColumnTransformer\n",
    "from sklearn.ensemble import HistGradientBoostingRegressor\n",
    "from sklearn.model_selection import cross_validate, KFold\n",
    "from sklearn.pipeline import make_pipeline\n",
    "from sklearn.model_selection import TimeSeriesSplit"
   ]
  },
  {
   "cell_type": "code",
   "execution_count": 3,
   "metadata": {},
   "outputs": [],
   "source": [
    "# cleaned up cities files, consolidated with resulting column names\n",
    "base_read_path = '../../Data/Zillow/clean/'\n",
    "select_cities_dict: dict[str, str] = {\n",
    "    'Atlanta.csv': 'Atlanta GA',\n",
    "    'Charlotte.csv' : 'Charlotte NC',\n",
    "    'Cincinnati.csv' : 'Cincinnati OH',\n",
    "    'Denver.csv' : 'Denver CO',\n",
    "    'Indianapolis.csv' : \"Indianapolis IN\",\n",
    "    'Providence.csv' : 'Providence RI'\n",
    "}"
   ]
  },
  {
   "cell_type": "code",
   "execution_count": 4,
   "metadata": {},
   "outputs": [
    {
     "name": "stdout",
     "output_type": "stream",
     "text": [
      "{'Atlanta.csv': 'Atlanta GA', 'Charlotte.csv': 'Charlotte NC', 'Cincinnati.csv': 'Cincinnati OH', 'Denver.csv': 'Denver CO', 'Indianapolis.csv': 'Indianapolis IN', 'Providence.csv': 'Providence RI'}\n"
     ]
    }
   ],
   "source": [
    "print(select_cities_dict)"
   ]
  },
  {
   "cell_type": "code",
   "execution_count": null,
   "metadata": {},
   "outputs": [],
   "source": []
  }
 ],
 "metadata": {
  "kernelspec": {
   "display_name": "base",
   "language": "python",
   "name": "python3"
  },
  "language_info": {
   "codemirror_mode": {
    "name": "ipython",
    "version": 3
   },
   "file_extension": ".py",
   "mimetype": "text/x-python",
   "name": "python",
   "nbconvert_exporter": "python",
   "pygments_lexer": "ipython3",
   "version": "3.11.7"
  }
 },
 "nbformat": 4,
 "nbformat_minor": 2
}
